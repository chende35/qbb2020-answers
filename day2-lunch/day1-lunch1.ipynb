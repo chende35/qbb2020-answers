{
 "cells": [
  {
   "cell_type": "code",
   "execution_count": null,
   "metadata": {},
   "outputs": [],
   "source": [
    "open_file = open('our_filepath.txt')\n",
    "#defaults to read\n",
    "file_two = open('file_two.txt', 'w')\n",
    "#writes to file, CAREFUL, this erases everything if it already exists\n",
    "#will create the file if doesnt exist\n",
    "file_two = open('file_two.text', 'a')\n",
    "#this is like write, but it just adds info to the bottom\n",
    "open_file.write(\"this file isnt empty anymore\\n\")\n",
    "open_file.write(\"now its got two lines\")\n",
    "#\\n is new line"
   ]
  },
  {
   "cell_type": "code",
   "execution_count": 2,
   "metadata": {},
   "outputs": [
    {
     "ename": "SyntaxError",
     "evalue": "invalid syntax (<ipython-input-2-ad6f43b3929e>, line 2)",
     "output_type": "error",
     "traceback": [
      "\u001b[0;36m  File \u001b[0;32m\"<ipython-input-2-ad6f43b3929e>\"\u001b[0;36m, line \u001b[0;32m2\u001b[0m\n\u001b[0;31m    line=fly.readline(1:10)\u001b[0m\n\u001b[0m                       ^\u001b[0m\n\u001b[0;31mSyntaxError\u001b[0m\u001b[0;31m:\u001b[0m invalid syntax\n"
     ]
    }
   ],
   "source": [
    "fly = open(\"/Users/cmdb/qbb2020/data/fly.txt\")\n",
    "line=fly.readline()\n",
    "print(line)\n",
    "fly.close()"
   ]
  },
  {
   "cell_type": "code",
   "execution_count": 36,
   "metadata": {},
   "outputs": [],
   "source": [
    "DR_fly = open('/Users/cmdb/qbb2020/data/DR_fly.txt', 'w')\n",
    "fly = open(\"/Users/cmdb/qbb2020/data/fly.txt\")\n",
    "for line in fly:\n",
    "    if 'DROME' in line:\n",
    "        if len(line.split()) == 4:\n",
    "            DR_fly.write(line.split()[3]+'\\t' + line.split()[2]+'\\n')\n",
    "        elif len(line.split()) == 5:\n",
    "            DR_fly.write(line.split()[4]+'\\t' + line.split()[3]+'\\n')\n",
    "        #DR_fly.write(line)\n",
    "DR_fly.close()\n",
    "fly.close()\n"
   ]
  },
  {
   "cell_type": "code",
   "execution_count": 6,
   "metadata": {},
   "outputs": [],
   "source": [
    "DR_fly.close()\n",
    "fly.close()"
   ]
  },
  {
   "cell_type": "code",
   "execution_count": null,
   "metadata": {},
   "outputs": [],
   "source": [
    "#could use len[-1] to get around this if/else statement without having to count the splits\n",
    "#add conditional if there is at least 4 columns\n"
   ]
  },
  {
   "cell_type": "code",
   "execution_count": null,
   "metadata": {},
   "outputs": [],
   "source": []
  },
  {
   "cell_type": "code",
   "execution_count": null,
   "metadata": {},
   "outputs": [],
   "source": []
  },
  {
   "cell_type": "code",
   "execution_count": null,
   "metadata": {},
   "outputs": [],
   "source": []
  },
  {
   "cell_type": "code",
   "execution_count": null,
   "metadata": {},
   "outputs": [],
   "source": []
  },
  {
   "cell_type": "code",
   "execution_count": null,
   "metadata": {},
   "outputs": [],
   "source": []
  },
  {
   "cell_type": "code",
   "execution_count": null,
   "metadata": {},
   "outputs": [],
   "source": []
  },
  {
   "cell_type": "code",
   "execution_count": null,
   "metadata": {},
   "outputs": [],
   "source": []
  }
 ],
 "metadata": {
  "kernelspec": {
   "display_name": "Python 3",
   "language": "python",
   "name": "python3"
  },
  "language_info": {
   "codemirror_mode": {
    "name": "ipython",
    "version": 3
   },
   "file_extension": ".py",
   "mimetype": "text/x-python",
   "name": "python",
   "nbconvert_exporter": "python",
   "pygments_lexer": "ipython3",
   "version": "3.6.10"
  }
 },
 "nbformat": 4,
 "nbformat_minor": 4
}
