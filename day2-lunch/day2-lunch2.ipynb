{
 "cells": [
  {
   "cell_type": "markdown",
   "metadata": {},
   "source": [
    "# make dictionary:"
   ]
  },
  {
   "cell_type": "code",
   "execution_count": 9,
   "metadata": {
    "scrolled": true
   },
   "outputs": [],
   "source": [
    "f=open(\"/Users/cmdb/qbb2020/data/fly.txt\")\n",
    "id_dict = {}\n",
    "for line in f:\n",
    "    if 'DROME' not in line: \n",
    "        continue\n",
    "    else:\n",
    "        if 'FBgn' in line:\n",
    "            fields = line.split()\n",
    "            gene_id = fields[-1]\n",
    "            uniprot_id = fields[-2]\n",
    "        id_dict[gene_id] = uniprot_id"
   ]
  },
  {
   "cell_type": "markdown",
   "metadata": {},
   "source": [
    "# open c_tab: "
   ]
  },
  {
   "cell_type": "code",
   "execution_count": 10,
   "metadata": {},
   "outputs": [],
   "source": [
    "ctab = open('/Users/cmdb/data/results/stringtie/SRR072893/t_data.ctab')"
   ]
  },
  {
   "cell_type": "markdown",
   "metadata": {},
   "source": [
    "# coding actual function"
   ]
  },
  {
   "cell_type": "code",
   "execution_count": 12,
   "metadata": {},
   "outputs": [],
   "source": [
    "def replace_id_in_ctab(dictionary, ctab_file, arg3='skip'):\n",
    "    #step 1: assign args to values\n",
    "    count = 0\n",
    "    for line in ctab_file:\n",
    "        count+=1\n",
    "        if count < 101:\n",
    "            fields = line.split()\n",
    "            gene_id = fields[8]\n",
    "            first_half = fields[1:8]\n",
    "            second_half = fields[9:]\n",
    "            first_half_string = '\\t'.join(first_half)\n",
    "            second_half_string = '\\t'.join(second_half)\n",
    "\n",
    "            if arg3=='skip':\n",
    "                if dictionary.get(gene_id) == None:\n",
    "                    continue\n",
    "                else:\n",
    "                    uniprot_id = dictionary.get(gene_id)\n",
    "                    print(first_half_string + '\\t' + uniprot_id + '\\t' + second_half_string)\n",
    "            else: \n",
    "                if dictionary.get(gene_id, arg3) == arg3:\n",
    "                    print(arg3)\n",
    "                else:\n",
    "                    uniprot_id = dictionary.get(gene_id)\n",
    "                    print(first_half_string + '\\t' + uniprot_id + '\\t' + second_half_string)\n",
    "        else:\n",
    "            break\n"
   ]
  },
  {
   "cell_type": "markdown",
   "metadata": {},
   "source": [
    "# calling function"
   ]
  },
  {
   "cell_type": "code",
   "execution_count": 13,
   "metadata": {},
   "outputs": [
    {
     "name": "stdout",
     "output_type": "stream",
     "text": [
      "not here dummy\n",
      "not here dummy\n",
      "not here dummy\n",
      "not here dummy\n",
      "not here dummy\n",
      "not here dummy\n",
      "not here dummy\n",
      "not here dummy\n",
      "not here dummy\n",
      "3R\t-\t3461351\t3587054\tFBtr0113885\t6\t3112\tP35875\tParp\t7.600407\t10.997173\n",
      "not here dummy\n",
      "not here dummy\n",
      "not here dummy\n",
      "not here dummy\n",
      "not here dummy\n",
      "not here dummy\n",
      "not here dummy\n",
      "not here dummy\n",
      "not here dummy\n",
      "not here dummy\n",
      "not here dummy\n",
      "not here dummy\n",
      "not here dummy\n",
      "not here dummy\n",
      "not here dummy\n",
      "not here dummy\n",
      "not here dummy\n",
      "not here dummy\n",
      "not here dummy\n",
      "not here dummy\n",
      "not here dummy\n",
      "not here dummy\n",
      "not here dummy\n",
      "not here dummy\n",
      "not here dummy\n",
      "not here dummy\n",
      "3R\t-\t4189692\t4190260\tFBtr0078989\t1\t569\tP09040\tDsk\t0.000000\t0.000000\n",
      "not here dummy\n",
      "not here dummy\n",
      "not here dummy\n",
      "not here dummy\n",
      "not here dummy\n",
      "not here dummy\n",
      "not here dummy\n",
      "not here dummy\n",
      "not here dummy\n",
      "not here dummy\n",
      "not here dummy\n",
      "not here dummy\n",
      "not here dummy\n",
      "3R\t-\t4227387\t4229238\tFBtr0078986\t5\t1590\tQ9VMY9\tDhpD\t0.000000\t0.000000\n",
      "not here dummy\n",
      "3R\t+\t4233047\t4235041\tFBtr0078967\t1\t1995\tQ9V3C0\tabs\t15.495739\t22.421080\n",
      "3R\t+\t4235217\t4241057\tFBtr0078968\t8\t2836\tQ07171\tGel\t0.000000\t0.000000\n",
      "3R\t+\t4235217\t4241057\tFBtr0078969\t10\t2940\tQ07171\tGel\t0.000000\t0.000000\n",
      "3R\t+\t4235217\t4241057\tFBtr0078973\t8\t2807\tQ07171\tGel\t0.000000\t0.000000\n",
      "3R\t+\t4235217\t4241057\tFBtr0309256\t9\t2897\tQ07171\tGel\t0.000000\t0.000000\n",
      "3R\t+\t4235217\t4241057\tFBtr0336707\t7\t2584\tQ07171\tGel\t0.000000\t0.000000\n",
      "3R\t+\t4236788\t4241057\tFBtr0078971\t7\t2628\tQ07171\tGel\t0.000000\t0.000000\n",
      "3R\t+\t4236788\t4241057\tFBtr0309257\t8\t2839\tQ07171\tGel\t0.000000\t0.000000\n",
      "not here dummy\n",
      "not here dummy\n",
      "not here dummy\n",
      "not here dummy\n",
      "not here dummy\n",
      "not here dummy\n",
      "not here dummy\n",
      "not here dummy\n",
      "not here dummy\n",
      "not here dummy\n",
      "not here dummy\n",
      "not here dummy\n",
      "3R\t+\t4256972\t4258444\tFBtr0078977\t6\t1158\tP82986\tOr82a\t0.000000\t0.000000\n",
      "not here dummy\n",
      "not here dummy\n",
      "not here dummy\n",
      "not here dummy\n",
      "3R\t+\t4280221\t4301541\tFBtr0078897\t7\t3628\tQ8IPM8\tcpx\t0.000000\t0.000000\n",
      "3R\t+\t4280221\t4304604\tFBtr0336482\t5\t9682\tQ8IPM8\tcpx\t0.000000\t0.000000\n",
      "3R\t+\t4280385\t4301541\tFBtr0078898\t7\t3577\tQ8IPM8\tcpx\t0.000000\t0.000000\n",
      "3R\t+\t4280385\t4301541\tFBtr0078899\t7\t3930\tQ8IPM8\tcpx\t0.000000\t0.000000\n",
      "3R\t+\t4280385\t4301541\tFBtr0301768\t7\t5137\tQ8IPM8\tcpx\t0.000000\t0.000000\n",
      "3R\t+\t4280385\t4301541\tFBtr0301769\t7\t3538\tQ8IPM8\tcpx\t0.000000\t0.000000\n",
      "3R\t+\t4281705\t4301541\tFBtr0078900\t7\t3650\tQ8IPM8\tcpx\t0.000000\t0.000000\n",
      "3R\t+\t4281705\t4304604\tFBtr0078902\t6\t2888\tQ8IPM8\tcpx\t0.000000\t0.000000\n",
      "3R\t+\t4281838\t4301541\tFBtr0113338\t7\t3649\tQ8IPM8\tcpx\t0.000000\t0.000000\n",
      "3R\t+\t4281838\t4301541\tFBtr0113340\t7\t3576\tQ8IPM8\tcpx\t0.000000\t0.000000\n",
      "3R\t+\t4281838\t4301541\tFBtr0301770\t7\t3561\tQ8IPM8\tcpx\t0.000000\t0.000000\n",
      "3R\t+\t4282164\t4301541\tFBtr0113341\t7\t3634\tQ8IPM8\tcpx\t0.000000\t0.000000\n",
      "3R\t+\t4282164\t4301541\tFBtr0300789\t8\t3655\tQ8IPM8\tcpx\t0.000000\t0.000000\n",
      "3R\t+\t4282164\t4304604\tFBtr0301771\t6\t8078\tQ8IPM8\tcpx\t0.000000\t0.000000\n",
      "3R\t+\t4282625\t4301541\tFBtr0078901\t6\t3541\tQ8IPM8\tcpx\t0.000000\t0.000000\n",
      "3R\t+\t4282625\t4301541\tFBtr0301772\t7\t3544\tQ8IPM8\tcpx\t0.000000\t0.000000\n",
      "3R\t+\t4291738\t4296962\tFBtr0310506\t3\t2094\tQ8IPM8\tcpx\t0.000000\t0.000000\n",
      "3R\t+\t4291738\t4301541\tFBtr0100500\t5\t3682\tQ8IPM8\tcpx\t0.000000\t0.000000\n",
      "3R\t+\t4291738\t4301541\tFBtr0113337\t5\t3485\tQ8IPM8\tcpx\t0.000000\t0.000000\n",
      "3R\t+\t4291738\t4304604\tFBtr0310614\t5\t3803\tQ8IPM8\tcpx\t0.000000\t0.000000\n",
      "not here dummy\n",
      "3R\t+\t4294862\t4301541\tFBtr0100499\t5\t3233\tQ8IPM8\tcpx\t0.000000\t0.000000\n",
      "not here dummy\n",
      "None\n"
     ]
    }
   ],
   "source": [
    "print(replace_id_in_ctab(id_dict, ctab, 'not here dummy'))"
   ]
  },
  {
   "cell_type": "code",
   "execution_count": null,
   "metadata": {},
   "outputs": [],
   "source": []
  },
  {
   "cell_type": "code",
   "execution_count": null,
   "metadata": {},
   "outputs": [],
   "source": []
  },
  {
   "cell_type": "code",
   "execution_count": null,
   "metadata": {},
   "outputs": [],
   "source": []
  }
 ],
 "metadata": {
  "kernelspec": {
   "display_name": "Python 3",
   "language": "python",
   "name": "python3"
  },
  "language_info": {
   "codemirror_mode": {
    "name": "ipython",
    "version": 3
   },
   "file_extension": ".py",
   "mimetype": "text/x-python",
   "name": "python",
   "nbconvert_exporter": "python",
   "pygments_lexer": "ipython3",
   "version": "3.6.10"
  }
 },
 "nbformat": 4,
 "nbformat_minor": 4
}
