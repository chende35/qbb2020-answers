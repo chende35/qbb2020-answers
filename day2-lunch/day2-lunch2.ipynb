{
 "cells": [
  {
   "cell_type": "code",
   "execution_count": null,
   "metadata": {},
   "outputs": [],
   "source": []
  },
  {
   "cell_type": "code",
   "execution_count": 16,
   "metadata": {
    "scrolled": true
   },
   "outputs": [],
   "source": [
    "\n",
    "def my_function(mapping_file, c_tab_file):\n",
    "#, default=True):\n",
    "    #make dictionary out of mapping file\n",
    "    mapping_file=open(mapping_file, 'r')\n",
    "    gene_map=dict()\n",
    "    \n",
    "    #add data to dict\n",
    "    for line in mapping_file:\n",
    "        #an efficient way of adding these all to the dictionary?\n",
    "        key=line.split()[0]\n",
    "        value=line.split()[1]\n",
    "        #for key, value in line:\n",
    "        gene_map[key]=value\n",
    "        \n",
    "    #open new file, keep to 100 lines of output\n",
    "    output=open('/Users/cmdb/qbb2020/data/day2-lunch-output.txt','w')\n",
    "    count = 0\n",
    "    c_tab=open(c_tab_file, 'r')\n",
    "    for line in c_tab:\n",
    "        count +=1\n",
    "        fly_ID = line.split()[8]\n",
    "        if count > 0 and count < 101:\n",
    "            pt1=str(line.split()[1:8])\n",
    "            pt2=str(gene_map.get(fly_ID,\"NA\"))\n",
    "            pt3=str(line.split()[9:])\n",
    "            output.write(pt1 + pt2 + pt3 + '\\n')\n",
    "        #close files\n",
    "            \n",
    "my_function('/Users/cmdb/qbb2020/data/DR_fly.txt','/Users/cmdb/data/results/stringtie/SRR072893/t_data.ctab')\n",
    "#gene_id is the key\n",
    "#UniProt ID is the value\n",
    "#find gene_id in c_tab file\n",
    "#parse c_tab file\n",
    "#    for line in c_tab:\n",
    "#        line.split()[8]\n",
    "#        output.write(str(line.split()[1:8])+gene_id[0]+line.split[9:])\n",
    "\n",
    "#search mapping file for gene_id\n",
    "\n",
    "#print line from c_tab file + gene_id\n",
    "#    output.write(line.split()[1:8]+gene_id[0]+line.split[9:])\n",
    "#third argument thing\n",
    "#if default = True:\n",
    "    #Print and fill the field with a default value specified in the function. \n",
    "    #print('Not Found.')\n",
    "#if default = False:\n",
    "    #Print nothing (ignore the line)"
   ]
  },
  {
   "cell_type": "code",
   "execution_count": null,
   "metadata": {},
   "outputs": [],
   "source": []
  },
  {
   "cell_type": "code",
   "execution_count": null,
   "metadata": {},
   "outputs": [],
   "source": []
  },
  {
   "cell_type": "code",
   "execution_count": null,
   "metadata": {},
   "outputs": [],
   "source": []
  },
  {
   "cell_type": "code",
   "execution_count": null,
   "metadata": {},
   "outputs": [],
   "source": []
  },
  {
   "cell_type": "code",
   "execution_count": null,
   "metadata": {},
   "outputs": [],
   "source": []
  },
  {
   "cell_type": "code",
   "execution_count": null,
   "metadata": {},
   "outputs": [],
   "source": []
  },
  {
   "cell_type": "code",
   "execution_count": null,
   "metadata": {},
   "outputs": [],
   "source": []
  },
  {
   "cell_type": "code",
   "execution_count": null,
   "metadata": {},
   "outputs": [],
   "source": []
  },
  {
   "cell_type": "code",
   "execution_count": null,
   "metadata": {},
   "outputs": [],
   "source": []
  }
 ],
 "metadata": {
  "kernelspec": {
   "display_name": "Python 3",
   "language": "python",
   "name": "python3"
  },
  "language_info": {
   "codemirror_mode": {
    "name": "ipython",
    "version": 3
   },
   "file_extension": ".py",
   "mimetype": "text/x-python",
   "name": "python",
   "nbconvert_exporter": "python",
   "pygments_lexer": "ipython3",
   "version": "3.6.10"
  }
 },
 "nbformat": 4,
 "nbformat_minor": 4
}
