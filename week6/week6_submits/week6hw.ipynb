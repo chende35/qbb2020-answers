{
 "cells": [
  {
   "cell_type": "markdown",
   "metadata": {},
   "source": [
    "# step 0"
   ]
  },
  {
   "cell_type": "markdown",
   "metadata": {},
   "source": [
    "conda environment:\n",
    "    \n",
    "conda create -n week6 -c bioconda -c anaconda fastqc bismark samtools bowtie2 igv"
   ]
  },
  {
   "cell_type": "markdown",
   "metadata": {},
   "source": [
    "data:\n",
    " \n",
    "SRA: https://www.ncbi.nlm.nih.gov/sra/\n",
    "\n",
    "paper: https://www-nature-com.proxy1.library.jhu.edu/articles/s41588-017-0003-x#Sec14\n",
    "\n",
    "two datasets, downloaded to week6-files folder: E4.0ICM rep1 and STEM-seq E5.5Epi rep1"
   ]
  },
  {
   "cell_type": "markdown",
   "metadata": {},
   "source": [
    "You will need to determine which file belongs to which sample using GEO (look for the SRA link on each sample’s webpage).\n",
    "\n",
    "SRR3083926 is ------- GSM2027229: STEM-seq E4.0ICM rep1; Mus musculus; Bisulfite-Seq (SO THIS IS ICM)\n",
    "\n",
    "SRR3083929 is ------- GSM2027231: STEM-seq E5.5Epi rep1; Mus musculus; Bisulfite-Seq (SO THIS IS EPIBLAST)\n"
   ]
  },
  {
   "cell_type": "markdown",
   "metadata": {},
   "source": [
    "some command line things:\n",
    "    \n",
    "    less -S SRR3083926_1.chr6.fastq\n",
    "    fastqc SRR3083929_1.chr6.fastq\n",
    "    fastqc SRR3083929_2.chr6.fastq\n",
    "    fastqc SRR3083926_1.chr6.fastq\n",
    "    fastqc SRR3083926_2.chr6.fastq\n",
    "    \n",
    "<strike>honestly I dont really notice anything I didnt expect? The read quality drastically declines at the end but isnt that what we would expect?"
   ]
  },
  {
   "cell_type": "markdown",
   "metadata": {},
   "source": [
    "oops jk the 1 strands have no Cs, and the other strand has no Gs. This totally makes sense in the context of bisulfite seq, since the treatment converts unmethylated cytosines to uracil, and the complementary strand would have the inverse effect."
   ]
  },
  {
   "cell_type": "markdown",
   "metadata": {},
   "source": [
    "# step 1: reference genome"
   ]
  },
  {
   "cell_type": "markdown",
   "metadata": {},
   "source": [
    "make a reference genome index:\n",
    "    bismark_genome_preparation chr6.fa\n",
    "    \n",
    "didnt work, need to make a folder\n",
    "    mkdir chr6\n",
    "    mv chr6.fa chr6/chr6.fa\n",
    "    \n",
    "bismark_genome_preparation chr6\n",
    "\n",
    "ok this one worked\n"
   ]
  },
  {
   "cell_type": "markdown",
   "metadata": {},
   "source": [
    "# step 2: mapping"
   ]
  },
  {
   "cell_type": "markdown",
   "metadata": {},
   "source": [
    "mapping my two experiments to the genome using bismark\n",
    "\n",
    "bismark --parallel 4 chr6 -1 methylation_fastq/SRR3083926_1.chr6.fastq -2 methylation_fastq/SRR3083926_2.chr6.fastq\n",
    "\n",
    "bismark --parallel 4 chr6 -1 methylation_fastq/SRR3083929_1.chr6.fastq -2 methylation_fastq/SRR3083929_2.chr6.fastq"
   ]
  },
  {
   "cell_type": "markdown",
   "metadata": {},
   "source": [
    "# step 3: sorting and indexing"
   ]
  },
  {
   "cell_type": "markdown",
   "metadata": {},
   "source": [
    "before I can load it into the IGV I need a sorted bam and an index:\n",
    "\n",
    "for sample in SRR3083926_1 SRR3083929_1\n",
    "do\n",
    "    samtools sort ${sample}.chr6_bismark_bt2_pe.bam -o ${sample}.sorted.bam\n",
    "    samtools index ${sample}.sorted.bam\n",
    "done"
   ]
  },
  {
   "cell_type": "markdown",
   "metadata": {},
   "source": [
    "# step 4: extracting methylation data"
   ]
  },
  {
   "cell_type": "code",
   "execution_count": null,
   "metadata": {},
   "outputs": [],
   "source": [
    "now I need to extract the methylation data: \n",
    "    bismark_methylation_extractor --bedgraph --comprehensive SRR3083929_1.sorted.bam\n",
    "    bismark_methylation_extractor --bedgraph --comprehensive ivg_26/SRR3083926_1.sorted.bam"
   ]
  },
  {
   "cell_type": "code",
   "execution_count": 23,
   "metadata": {},
   "outputs": [
    {
     "name": "stdout",
     "output_type": "stream",
     "text": [
      "50006221 ['100']\n",
      "50008106 ['100']\n",
      "50011269 ['80']\n",
      "50012922 ['50']\n",
      "50014554 ['100']\n",
      "50014758 ['50']\n",
      "50014774 ['50']\n",
      "50015088 ['100']\n",
      "50016957 ['20']\n",
      "50018339 ['33.3333333333333']\n",
      "50018812 ['66.6666666666667']\n"
     ]
    }
   ],
   "source": [
    "methyl_dict = {}\n",
    "count = 0\n",
    "\n",
    "E4 = open('/Users/cmdb/qbb2020-answers/week6/week6_files/SRR3083926_1.sorted.bedGraph')\n",
    "\n",
    "for line in E4:\n",
    "    count += 1\n",
    "    if line.startswith('track'):\n",
    "        continue\n",
    "    fields = line.strip('\\r\\n').split('\\t')\n",
    "    key = fields[1]\n",
    "    methyl = fields[3]\n",
    "    if methyl == '0':\n",
    "        continue\n",
    "    else: \n",
    "        #methyl_dict.update(key : methyl)\n",
    "        methyl_dict[key] = [methyl]\n",
    "count1 = 0\n",
    "for key, value in methyl_dict.items():\n",
    "    count1 += 1\n",
    "    print(key, value)\n",
    "    if count1 > 10:\n",
    "        break"
   ]
  },
  {
   "cell_type": "code",
   "execution_count": 24,
   "metadata": {},
   "outputs": [
    {
     "name": "stdout",
     "output_type": "stream",
     "text": [
      "50006221 ['100']\n",
      "50008106 ['100', '100']\n",
      "50011269 ['80']\n",
      "50012922 ['50']\n",
      "50014554 ['100']\n",
      "50014758 ['50']\n",
      "50014774 ['50']\n",
      "50015088 ['100']\n",
      "50016957 ['20']\n",
      "50018339 ['33.3333333333333', '100']\n",
      "50018812 ['66.6666666666667']\n"
     ]
    }
   ],
   "source": [
    "E55 = open('/Users/cmdb/qbb2020-answers/week6/week6_files/SRR3083929_1.sorted.bedGraph')\n",
    "\n",
    "for line in E55:\n",
    "    count += 1\n",
    "    if line.startswith('track'):\n",
    "        continue\n",
    "    fields = line.strip('\\r\\n').split('\\t')\n",
    "    key1 = fields[1]\n",
    "    methyl1 = fields[3]\n",
    "    if key1 in methyl_dict:\n",
    "        methyl_dict[key1].append(methyl1)\n",
    "    else:\n",
    "        continue\n",
    "count1 = 0\n",
    "for key, value in methyl_dict.items():\n",
    "    count1 += 1\n",
    "    print(key, value)\n",
    "    if count1 > 10:\n",
    "        break"
   ]
  },
  {
   "cell_type": "code",
   "execution_count": 28,
   "metadata": {},
   "outputs": [
    {
     "name": "stdout",
     "output_type": "stream",
     "text": [
      "50008106 1.0\n",
      "50018339 3.000000000000003\n",
      "50018960 1.0\n",
      "50019058 0.222222222222222\n",
      "50024598 1.0\n",
      "50024610 1.0\n",
      "50025197 0.5\n",
      "50025242 1.8000000000000018\n",
      "50035357 0.0\n",
      "50036288 0.5\n",
      "50036300 0.666666666666667\n"
     ]
    }
   ],
   "source": [
    "fold_dict = {}\n",
    "for key, value in methyl_dict.items():\n",
    "    if len(value) == 2:\n",
    "        fold = float(value[1])/float(value[0])\n",
    "        fold_dict[key] = fold\n",
    "    else:\n",
    "        continue\n",
    "count1 = 0\n",
    "for key, value in fold_dict.items():\n",
    "    count1 += 1\n",
    "    print(key, value)\n",
    "    if count1 > 10:\n",
    "        break\n",
    "    "
   ]
  },
  {
   "cell_type": "code",
   "execution_count": null,
   "metadata": {},
   "outputs": [],
   "source": [
    "13th column = gene name (key)\n",
    "5th and 6th column = start and end\n"
   ]
  },
  {
   "cell_type": "code",
   "execution_count": 29,
   "metadata": {},
   "outputs": [
    {
     "name": "stdout",
     "output_type": "stream",
     "text": [
      "Mpp6 ['50110240', '50198598']\n",
      "Dfna5 ['50207402', '50261769']\n",
      "Osbpl3 ['50293326', '50456170']\n",
      "Cycs ['50562562', '50566474']\n",
      "5430402O13Rik ['50566642', '50594865']\n",
      "Mir6371 ['50572397', '50572508']\n",
      "4921507P07Rik ['50573303', '50596590']\n",
      "Npvf ['50650870', '50654393']\n",
      "C530044C16Rik ['50776114', '50814894']\n",
      "Mir148a ['51269811', '51269910']\n",
      "Gm6559 ['51379709', '51392791']\n"
     ]
    }
   ],
   "source": [
    "name_dict = {}\n",
    "\n",
    "mm10 = open('/Users/cmdb/qbb2020-answers/week6/week6_files/mm10_refseq_genes_chr6_50M_60M.bed')\n",
    "\n",
    "for line in mm10:\n",
    "    fields = line.strip('\\r\\n').split('\\t')\n",
    "    key = fields[12]\n",
    "    start = fields[4]\n",
    "    end = fields[5]\n",
    "    name_dict[key] = [start, end]\n",
    "    \n",
    "count1 = 0\n",
    "for key, value in name_dict.items():\n",
    "    count1 += 1\n",
    "    print(key, value)\n",
    "    if count1 > 10:\n",
    "        break"
   ]
  },
  {
   "cell_type": "code",
   "execution_count": 32,
   "metadata": {},
   "outputs": [
    {
     "name": "stdout",
     "output_type": "stream",
     "text": [
      "Mpp6 ['50110240', '50198598', 2.5, 2.0, 1.0, 1.0, 1.0, 0.0, 2.4000000000000026, 0.2, 1.0, 0.666666666666667, 1.0, 2.0, 0.583333333333333, 5.0, 2.0, 1.0, 3.000000000000003, 1.0, 1.0, 1.0, 1.2307692307692322, 6.000000000000008, 20.52000000000002, 1.5000000000000004, 0.0, 2.9166666666666674, 5.0, 0.0, 0.0, 1.4999999999999993, 1.0, 0.0, 2.0, 1.0, 1.0, 1.0, 1.0, 0.0, 2.0, 1.25, 0.0, 1.0, 1.0, 1.4999999999999993, 2.5, 2.5, 3.000000000000003, 1.0, 1.0, 1.0, 1.0, 1.0, 1.0, 1.0, 1.0, 1.0, 0.666666666666666, 3.4999999999999964, 0.666666666666666, 1.0, 1.1249999999999998, 1.1249999999999998, 3.4999999999999964, 3.4999999999999964, 9.000000000000009, 0.5, 0.5, 1.0, 1.0, 5.0, 2.0, 0.428571428571429, 1.0, 0.0, 1.0, 2.0, 1.0, 1.0, 0.333333333333333, 1.0, 9.000000000000009, 0.25, 1.0, 1.0, 1.0, 1.0, 1.0, 1.0, 1.0, 1.0, 2.5, 4.0, 3.000000000000003, 2.3333333333333313]\n",
      "Dfna5 ['50207402', '50261769', 1.0, 1.0, 1.0, 4.0, 3.000000000000003, 4.0, 0.0, 1.4999999999999993, 0.0, 5.0, 1.0, 1.0, 1.0, 2.4000000000000026, 1.0, 1.0, 1.6, 0.0, 0.0, 1.5, 0.0]\n",
      "Osbpl3 ['50293326', '50456170', 2.0, 1.0, 1.0, 1.0, 0.2, 2.0, 6.999999999999993, 6.999999999999993, 1.0, 0.0, 0.666666666666667, 1.25, 2.250000000000002, 9.000000000000009, 1.7999999999999985, 1.0, 0.0, 1.0, 2.0, 6.999999999999993, 1.0, 0.0, 1.0, 1.0, 1.0, 1.0, 1.0, 1.0, 1.0, 1.0, 1.4999999999999993, 0.0, 3.000000000000003, 1.0, 2.0, 1.4999999999999993, 1.0, 0.9500000000000003, 1.0, 1.0, 0.0, 0.0, 1.0, 1.0, 8.0, 1.750000000000001, 1.0, 1.0, 1.0, 0.0, 1.0, 0.333333333333333, 1.0, 6.999999999999993, 1.25, 0.0, 1.0, 1.0, 1.0, 1.0, 3.000000000000003, 1.0, 4.333333333333329, 1.0, 1.0, 2.5, 1.0, 2.0, 1.0, 1.0, 5.9999999999999885, 2.0, 2.0, 5.9999999999999885, 1.0, 1.0, 3.000000000000003, 1.0, 1.0, 2.0, 1.0, 0.8999999999999996, 0.666666666666667, 2.0, 0.608695652173914, 1.0, 2.0, 1.0, 5.0, 0.0, 1.0, 1.0, 1.0, 1.333333333333334, 1.0]\n",
      "Cycs ['50562562', '50566474', 2.0, 5.0, 6.666666666666684, 2.749999999999997, 1.4999999999999993]\n",
      "5430402O13Rik ['50566642', '50594865', 1.0, 1.0, 0.0, 1.4999999999999993, 1.4999999999999993, 0.6, 0.0, 1.6666666666666667, 0.0, 1.0, 1.0, 1.0, 4.0, 0.666666666666667, 0.0, 0.666666666666667, 1.0, 2.6250000000000027]\n",
      "Mir6371 ['50572397', '50572508']\n",
      "4921507P07Rik ['50573303', '50596590', 0.0, 1.6666666666666667, 0.0, 1.0, 1.0, 1.0, 4.0, 0.666666666666667, 0.0, 0.666666666666667, 1.0, 2.6250000000000027]\n",
      "Npvf ['50650870', '50654393', 1.0]\n",
      "C530044C16Rik ['50776114', '50814894', 1.0, 1.0, 1.0, 6.999999999999993, 2.3333333333333313, 1.5, 1.6666666666666667, 1.3333333333333333, 1.833333333333335, 1.0, 1.0, 1.0, 1.0, 0.0, 0.0, 0.0, 1.0, 0.0, 1.0, 1.0, 2.5, 1.0, 0.0, 1.2857142857142854, 1.0, 1.0, 1.0]\n",
      "Mir148a ['51269811', '51269910', 0.0]\n",
      "Gm6559 ['51379709', '51392791', 0.0, 1.0, 1.25, 2.0, 2.5, 1.0, 1.0, 1.0, 1.0, 1.0, 1.0, 2.250000000000002, 2.000000000000003, 2.5]\n"
     ]
    }
   ],
   "source": [
    "for key, value in name_dict.items():\n",
    "    for key1, value1 in fold_dict.items():\n",
    "        if key1 >= value[0] and key1 <= value[1]:\n",
    "            name_dict[key].append(value1)\n",
    "\n",
    "count1 = 0\n",
    "for key, value in name_dict.items():\n",
    "    count1 += 1\n",
    "    print(key, value)\n",
    "    if count1 > 10:\n",
    "        break\n",
    "            \n",
    "    "
   ]
  },
  {
   "cell_type": "code",
   "execution_count": 34,
   "metadata": {},
   "outputs": [
    {
     "name": "stdout",
     "output_type": "stream",
     "text": [
      "Npvf 1.0\n",
      "Mir148a 0.0\n",
      "Halr1 1.0\n",
      "Hoxa2 0.0\n",
      "Hoxaas2 0.0\n",
      "Hoxa5 1.0\n",
      "Mir196b 0.0\n",
      "Hoxa11 0.0\n",
      "Hoxa13 0.0\n",
      "Hottip 0.0\n",
      "Ghrhr 2.0\n",
      "Vmn1r4 0.0\n",
      "Vmn1r5 0.5\n",
      "Vmn1r11 0.8\n",
      "Vmn1r13 0.333333333333333\n",
      "Vmn1r15 0.0\n",
      "Vmn1r27 1.0\n",
      "Vmn1r29 1.0\n",
      "Vmn1r30 1.0\n"
     ]
    }
   ],
   "source": [
    "name_fold_dict = {}\n",
    "for key, value in name_dict.items():\n",
    "    if len(value)==3:\n",
    "        name_fold_dict[key]=value[2]\n",
    "\n",
    "for key, value in name_fold_dict.items():\n",
    "    print(key, value)\n",
    "\n",
    "        "
   ]
  },
  {
   "cell_type": "code",
   "execution_count": null,
   "metadata": {},
   "outputs": [],
   "source": []
  }
 ],
 "metadata": {
  "kernelspec": {
   "display_name": "Python 3",
   "language": "python",
   "name": "python3"
  },
  "language_info": {
   "codemirror_mode": {
    "name": "ipython",
    "version": 3
   },
   "file_extension": ".py",
   "mimetype": "text/x-python",
   "name": "python",
   "nbconvert_exporter": "python",
   "pygments_lexer": "ipython3",
   "version": "3.6.10"
  }
 },
 "nbformat": 4,
 "nbformat_minor": 4
}
