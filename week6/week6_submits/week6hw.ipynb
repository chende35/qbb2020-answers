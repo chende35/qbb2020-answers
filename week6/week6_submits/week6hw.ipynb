{
 "cells": [
  {
   "cell_type": "markdown",
   "metadata": {},
   "source": [
    "# step 0"
   ]
  },
  {
   "cell_type": "markdown",
   "metadata": {},
   "source": [
    "conda environment:\n",
    "    \n",
    "conda create -n week6 -c bioconda -c anaconda fastqc bismark samtools bowtie2 igv"
   ]
  },
  {
   "cell_type": "markdown",
   "metadata": {},
   "source": [
    "data:\n",
    " \n",
    "SRA: https://www.ncbi.nlm.nih.gov/sra/\n",
    "\n",
    "paper: https://www-nature-com.proxy1.library.jhu.edu/articles/s41588-017-0003-x#Sec14\n",
    "\n",
    "two datasets, downloaded to week6-files folder: E4.0ICM rep1 and STEM-seq E5.5Epi rep1"
   ]
  },
  {
   "cell_type": "markdown",
   "metadata": {},
   "source": [
    "You will need to determine which file belongs to which sample using GEO (look for the SRA link on each sample’s webpage).\n",
    "\n",
    "SRR3083926 is ------- GSM2027229: STEM-seq E4.0ICM rep1; Mus musculus; Bisulfite-Seq (SO THIS IS ICM)\n",
    "SRR3083929 is ------- GSM2027231: STEM-seq E5.5Epi rep1; Mus musculus; Bisulfite-Seq (SO THIS IS EPIBLAST)\n"
   ]
  },
  {
   "cell_type": "markdown",
   "metadata": {},
   "source": [
    "some command line things:\n",
    "    \n",
    "    less -S SRR3083926_1.chr6.fastq\n",
    "    fastqc SRR3083929_1.chr6.fastq\n",
    "    fastqc SRR3083929_2.chr6.fastq\n",
    "    fastqc SRR3083926_1.chr6.fastq\n",
    "    fastqc SRR3083926_2.chr6.fastq\n",
    "    \n",
    "honestly I dont really notice anything I didnt expect? The read quality drastically declines at the end but isnt that what we would expect?\n",
    "\n",
    "oops jk the 1 strands have no Cs, and the other strand has no Gs"
   ]
  },
  {
   "cell_type": "markdown",
   "metadata": {},
   "source": [
    "# step 1: reference genome"
   ]
  },
  {
   "cell_type": "code",
   "execution_count": null,
   "metadata": {},
   "outputs": [],
   "source": [
    "make a reference genome index:\n",
    "    bismark_genome_preparation chr6.fa\n",
    "    \n",
    "didnt work, need to make a folder\n",
    "    mkdir chr6\n",
    "    mv chr6.fa chr6/chr6.fa\n",
    "    \n",
    "bismark_genome_preparation chr6\n",
    "\n",
    "ok this one worked\n"
   ]
  },
  {
   "cell_type": "markdown",
   "metadata": {},
   "source": [
    "# step 2: mapping"
   ]
  },
  {
   "cell_type": "markdown",
   "metadata": {},
   "source": [
    "mapping my two experiments to the genome using bismark\n",
    "\n",
    "bismark --parallel 4 chr6 -1 methylation_fastq/SRR3083926_1.chr6.fastq -2 methylation_fastq/SRR3083926_2.chr6.fastq\n",
    "\n",
    "bismark --parallel 4 chr6 -1 methylation_fastq/SRR3083929_1.chr6.fastq -2 methylation_fastq/SRR3083929_2.chr6.fastq"
   ]
  },
  {
   "cell_type": "markdown",
   "metadata": {},
   "source": [
    "# step 3: sorting and indexing"
   ]
  },
  {
   "cell_type": "markdown",
   "metadata": {},
   "source": [
    "before I can load it into the IGV I need a sorted bam and an index:\n",
    "\n",
    "for sample in SRR3083926_1 SRR3083929_1\n",
    "do\n",
    "    samtools sort ${sample}.chr6_bismark_bt2_pe.bam -o ${sample}.sorted.bam\n",
    "    samtools index ${sample}.sorted.bam\n",
    "done"
   ]
  },
  {
   "cell_type": "markdown",
   "metadata": {},
   "source": [
    "# step 4: extracting methylation data"
   ]
  },
  {
   "cell_type": "code",
   "execution_count": null,
   "metadata": {},
   "outputs": [],
   "source": [
    "now I need to extract the methylation data: \n",
    "    bismark_methylation_extractor --bedgraph --comprehensive SRR3083929_1.sorted.bam\n",
    "    bismark_methylation_extractor --bedgraph --comprehensive ivg_26/SRR3083926_1.sorted.bam"
   ]
  },
  {
   "cell_type": "code",
   "execution_count": null,
   "metadata": {},
   "outputs": [],
   "source": []
  },
  {
   "cell_type": "code",
   "execution_count": null,
   "metadata": {},
   "outputs": [],
   "source": []
  },
  {
   "cell_type": "code",
   "execution_count": null,
   "metadata": {},
   "outputs": [],
   "source": []
  }
 ],
 "metadata": {
  "kernelspec": {
   "display_name": "Python 3",
   "language": "python",
   "name": "python3"
  },
  "language_info": {
   "codemirror_mode": {
    "name": "ipython",
    "version": 3
   },
   "file_extension": ".py",
   "mimetype": "text/x-python",
   "name": "python",
   "nbconvert_exporter": "python",
   "pygments_lexer": "ipython3",
   "version": "3.6.10"
  }
 },
 "nbformat": 4,
 "nbformat_minor": 4
}
