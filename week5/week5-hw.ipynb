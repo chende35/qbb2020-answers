{
 "cells": [
  {
   "cell_type": "code",
   "execution_count": 1,
   "metadata": {},
   "outputs": [],
   "source": [
    "import matplotlib\n",
    "import matplotlib.pyplot as plt\n",
    "import numpy as np\n",
    "import pandas as pd"
   ]
  },
  {
   "cell_type": "markdown",
   "metadata": {},
   "source": [
    "# part 1: ChIPseq"
   ]
  },
  {
   "cell_type": "markdown",
   "metadata": {},
   "source": [
    "### step 1: building the index"
   ]
  },
  {
   "cell_type": "markdown",
   "metadata": {},
   "source": [
    "bowtie2-build chr19.fa bowtie_index/chr19"
   ]
  },
  {
   "cell_type": "markdown",
   "metadata": {},
   "source": [
    "### step 2: map the reads back to the genome, make bam files"
   ]
  },
  {
   "cell_type": "markdown",
   "metadata": {},
   "source": [
    "for sample in CTCF_ER4 CTCF_G1E input_ER4 input_G1E\n",
    "do\n",
    "  bowtie2 -x ../bowtie_index/chr19 -U ${sample}.fastq -S ${sample}.sam -p 6\n",
    "  samtools view -bSo ${sample}.bam ${sample}.sam\n",
    "  samtools sort ${sample}.bam -o ${sample}.sorted.bam\n",
    "  samtools index ${sample}.sorted.bam\n",
    "done"
   ]
  },
  {
   "cell_type": "markdown",
   "metadata": {},
   "source": [
    "### step 3: Calling peaks"
   ]
  },
  {
   "cell_type": "markdown",
   "metadata": {},
   "source": [
    "macs2 callpeak -t CTCF_ER4.bam  -c input_ER4.bam --format=BAM --name=ER4 --gsize=61000000 --tsize=36"
   ]
  },
  {
   "cell_type": "markdown",
   "metadata": {},
   "source": [
    "macs2 callpeak -t CTCF_G1E.bam  -c input_G1E.bam --format=BAM --name=G1E --gsize=61000000 --tsize=36"
   ]
  },
  {
   "cell_type": "markdown",
   "metadata": {},
   "source": [
    "### step 4: differential binding"
   ]
  },
  {
   "cell_type": "markdown",
   "metadata": {},
   "source": [
    "G1E is before differentiation\n",
    "ER4 is after differentiation\n",
    "so the -v flag tells me what is in A that is NOT in B. \n",
    "so if i want to find out what is gained:\n",
    "    I have to do ER4 as A and G1E as B\n",
    "and if i want to find out what is lost:\n",
    "    I have to do G1E as A and ER4 as B\n"
   ]
  },
  {
   "cell_type": "markdown",
   "metadata": {},
   "source": [
    "bedtools intersect -v -a ER4_peaks.narrowPeak -b G1E_peaks.narrowPeak > gain.bed"
   ]
  },
  {
   "cell_type": "markdown",
   "metadata": {},
   "source": [
    "bedtools intersect -v -a G1E_peaks.narrowPeak -b ER4_peaks.narrowPeak > loss.bed"
   ]
  },
  {
   "cell_type": "markdown",
   "metadata": {},
   "source": [
    "### step 5: Feature overlapping"
   ]
  },
  {
   "cell_type": "markdown",
   "metadata": {},
   "source": [
    "-wa\tWrite the original entry in A for each overlap.\n",
    "\n",
    "\n",
    "ok so you dummy we want the complete region in G1e or ER4 at each place that it overlaps with a feature on the other file that has the features (opening the file reveals that 'features' means introns, exons, promoters etc)\n",
    "\n",
    "\n",
    "but which of the ER/G1 files do i want to use here?\n",
    "\n",
    "Im thinking that I should use the ER4_peaks.narrowPeak because I only want the places in the sample where CTCF was binding"
   ]
  },
  {
   "cell_type": "markdown",
   "metadata": {},
   "source": [
    "bedtools intersect -wa -a Mus_musculus.GRCm38.94_features.bed -b G1E_peaks.narrowPeak | cut -f 4 | sort | uniq -c > overlap_G1E.bed\n",
    "bedtools intersect -wa -a Mus_musculus.GRCm38.94_features.bed -b ER4_peaks.narrowPeak | cut -f 4 | sort | uniq -c > overlap_ER4.bed"
   ]
  },
  {
   "cell_type": "markdown",
   "metadata": {},
   "source": [
    "Results from above step:\n",
    "G1E:\n",
    "    84 exon\n",
    "    307 intron\n",
    "    54 promoter\n",
    "ER4:\n",
    "    101 exon\n",
    "    341 intron\n",
    "    67 promoter"
   ]
  },
  {
   "cell_type": "markdown",
   "metadata": {},
   "source": [
    "wc loss.bed \n",
    "output: 57\n",
    "wc gain.bed\n",
    "output: 124"
   ]
  },
  {
   "cell_type": "markdown",
   "metadata": {},
   "source": [
    "features = ('exon','intron','promoter')\n",
    "direction = ('loss', 'gain')\n",
    "G1E_val2 = (124,57)\n",
    "ER4_val2 = (57,124)\n",
    "y2_pos = (1,2)\n",
    "y_pos = (1,2,3)\n",
    "G1E_val = (84, 307, 54)\n",
    "ER4_val = (101, 341, 67)\n",
    "\n",
    "\n",
    "fig, ax = plt.subplots(2,2)\n",
    "ax[0,0].bar( y_pos, G1E_val)\n",
    "ax[0,0].set_xticks(y_pos)\n",
    "ax[0,0].set_xticklabels(features)\n",
    "ax[0,0].set_xlabel(\"Features\")\n",
    "ax[0,0].set_ylabel(\"Number of Binding Sites\")\n",
    "ax[0,0].set_title(\"Feature Binding for G1E\")\n",
    "\n",
    "\n",
    "ax[1,0].bar( y_pos, ER4_val)\n",
    "ax[1,0].set_xticks(y_pos)\n",
    "ax[1,0].set_xticklabels(features)\n",
    "ax[1,0].set_xlabel(\"Features\")\n",
    "ax[1,0].set_ylabel(\"Number of Binding Sites\")\n",
    "ax[1,0].set_title(\"Feature Binding for ER4\")\n",
    "\n",
    "\n",
    "ax[0,1].bar( y2_pos, G1E_val2)\n",
    "ax[0,1].set_xticks(y2_pos)\n",
    "ax[0,1].set_xticklabels(direction)\n",
    "ax[0,1].set_ylabel(\"Number of Binding Sites\")\n",
    "ax[0,1].set_title(\"Binding change relative to G1E\")\n",
    "\n",
    "ax[1,1].bar( y2_pos, ER4_val2)\n",
    "ax[1,1].set_xticks(y2_pos)\n",
    "ax[1,1].set_xticklabels(direction)\n",
    "ax[1,1].set_xlabel(\"Features\")\n",
    "ax[1,1].set_ylabel(\"Number of Binding Sites\")\n",
    "ax[1,1].set_title(\"Binding change relative to ER4\")\n"
   ]
  },
  {
   "cell_type": "code",
   "execution_count": 11,
   "metadata": {},
   "outputs": [
    {
     "data": {
      "text/plain": [
       "<matplotlib.legend.Legend at 0x7f86587bdc50>"
      ]
     },
     "execution_count": 11,
     "metadata": {},
     "output_type": "execute_result"
    },
    {
     "data": {
      "image/png": "[encoded data removed]",
      "text/plain": [
       "<Figure size 432x288 with 2 Axes>"
      ]
     },
     "metadata": {
      "needs_background": "light"
     },
     "output_type": "display_data"
    }
   ],
   "source": [
    "features = ('exon','intron','promoter')\n",
    "direction = ('loss', 'gain')\n",
    "G1E_val2 = (124,57)\n",
    "ER4_val2 = (57,124)\n",
    "y2_pos = (0,1)\n",
    "y_pos = (0,1,2)\n",
    "G1E_val = (84, 307, 54)\n",
    "ER4_val = (101, 341, 67)\n",
    "\n",
    "x = np.arange(len(features))\n",
    "x2 = np.arange(len(direction))\n",
    "width = 0.35\n",
    "\n",
    "fig, ax = plt.subplots(1,2)\n",
    "rects1 = ax[0].bar(x - width/2, G1E_val, width, label='G1E', color = 'darkturquoise')\n",
    "rects2 = ax[0].bar(x + width/2, ER4_val, width, label='ER4', color = 'blueviolet')\n",
    "ax[0].set_xticks(y_pos)\n",
    "ax[0].set_xticklabels(features)\n",
    "ax[0].set_xlabel(\"Features\")\n",
    "ax[0].set_ylabel(\"Number of Binding Sites\")\n",
    "ax[0].set_title(\"Feature Binding\")\n",
    "ax[0].legend()\n",
    "\n",
    "rects1 = ax[1].bar(x2 - width/2, G1E_val2, width, label='G1E', color = 'darkturquoise')\n",
    "rects2 = ax[1].bar(x2 + width/2, ER4_val2, width, label='ER4', color = 'blueviolet')\n",
    "ax[1].set_xticks(y2_pos)\n",
    "ax[1].set_xticklabels(direction)\n",
    "ax[1].set_xlabel(\"Features\")\n",
    "ax[1].set_ylabel(\"Number of Binding Sites\")\n",
    "ax[1].set_title(\"Binding Change\")\n",
    "ax[1].legend()"
   ]
  },
  {
   "cell_type": "markdown",
   "metadata": {},
   "source": [
    "# part 2: Motif discovery"
   ]
  },
  {
   "cell_type": "markdown",
   "metadata": {},
   "source": [
    "### step 1: downlead meme motif databases and finding only 100 strongest peaks"
   ]
  },
  {
   "cell_type": "markdown",
   "metadata": {},
   "source": [
    "sort -k 5 -n ER4_peaks.narrowPeak | tail -n 100 > sortedER4_peaks"
   ]
  },
  {
   "cell_type": "markdown",
   "metadata": {},
   "source": [
    "### step2: getting sequences"
   ]
  },
  {
   "cell_type": "markdown",
   "metadata": {},
   "source": [
    "bedtools getfasta -fi CTCF_ER4.fastq -bed sortedER4_peaks > sorterER4_peaks.fast\n",
    "\n",
    "didnt work AT ALL GOD DAMNIT. it didnt like the chr19 so trying this\n",
    "\n",
    "cut -f 2,3,4,5,6,7,8,9 sortedER4_peaks > finished100peaks\n",
    "\n",
    "bedtools getfasta -fi CTCF_ER4.fastq -bed finished100peaks > sorterER4_peaks.fast\n",
    "\n",
    "ok so that fixed nothing\n",
    "\n",
    "PLOT TWIST IM HELLA DUMB IT TURNS OUT I WAS USING THE WRONG FASTA FILE\n",
    "\n",
    "bedtools getfasta -fi chr19.fa -bed sortedER4_peaks > sorterER4_peaks.fa\n",
    "\n",
    "new error: \"The requested fasta database file (chr19.fa) could not be opened. Exiting!\"\n",
    "\n",
    "bedtools getfasta -fi chr19.fa -bed g1e/sortedER4_peaks > g1e/sorterER4_peaks.fa\n",
    "\n",
    "get wrecked computer I win in the end"
   ]
  },
  {
   "cell_type": "markdown",
   "metadata": {},
   "source": [
    "### step 3: meme chip commands and options"
   ]
  },
  {
   "cell_type": "markdown",
   "metadata": {},
   "source": [
    "meme-chip -meme-maxw 20 -oc test_file sorterER4_peaks.fa"
   ]
  },
  {
   "cell_type": "markdown",
   "metadata": {},
   "source": [
    "### step 4: TomTom"
   ]
  },
  {
   "cell_type": "markdown",
   "metadata": {},
   "source": [
    "tomtom test_file/combined.meme motif_databases/JASPAR/JASPAR_CORE_2016.meme > tomtom_file\n",
    "\n",
    "sort -k 5 -n tomtom_out/tomtom.txt | head -n 1 > sorted_tomtom\n",
    "\n",
    "that didnt work\n",
    "\n",
    "sort -k 5 -n tomtom_out/tomtom.txt > sorted_tomtom\n",
    "\n",
    "that also didnt work: the scientific notation\n",
    "\n",
    "sort -k 5 -g tomtom_out/tomtom.txt | head -n 2 > sorted_tomtom\n",
    "\n",
    "output:  MA0139.1"
   ]
  },
  {
   "cell_type": "code",
   "execution_count": null,
   "metadata": {},
   "outputs": [],
   "source": []
  }
 ],
 "metadata": {
  "kernelspec": {
   "display_name": "Python 3",
   "language": "python",
   "name": "python3"
  },
  "language_info": {
   "codemirror_mode": {
    "name": "ipython",
    "version": 3
   },
   "file_extension": ".py",
   "mimetype": "text/x-python",
   "name": "python",
   "nbconvert_exporter": "python",
   "pygments_lexer": "ipython3",
   "version": "3.6.10"
  }
 },
 "nbformat": 4,
 "nbformat_minor": 4
}
