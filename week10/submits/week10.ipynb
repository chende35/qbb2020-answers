{
 "cells": [
  {
   "cell_type": "markdown",
   "metadata": {},
   "source": [
    "# Step 0: Download and inspect the data\n",
    "READS folder, containing paired-end read data from 8 samples. For simplicity, you can consider these 8 samples to be gut samples collected from the infant from day 0 to day 8.\n",
    "\n",
    "assembly.fasta file, containing the joint assembly of all the samples. Note that entire genomes of the gut bacteria cannot be assembled. Instead, these assembled sequences are the broken up and scrambled pieces of all the various bacterial genomes.\n",
    "\n",
    "KRAKEN folder, containing the approximate classifications of both the reads and the assembled scaffolds. KRAKEN is a very fast and powerful tool that uses k-mer profiles instead of direct alignment to match sequences to the database."
   ]
  },
  {
   "cell_type": "markdown",
   "metadata": {},
   "source": [
    "# Step 1: Investigate the taxonomic profile of the reads\n",
    "view a detailed taxonomic breakdown of all 8 samples to see how the gut microbiota changes across the days following birth"
   ]
  },
  {
   "cell_type": "markdown",
   "metadata": {},
   "source": [
    "conda create --name week10 krona metabat2 jupyter"
   ]
  },
  {
   "cell_type": "markdown",
   "metadata": {},
   "source": [
    "#!/bin/bash\n",
    "for SAMPLE in 83 86 88 89 90 93 94 97 \n",
    "do \n",
    "    cut -c 11- files/week13_data/KRAKEN/SRR4921${SAMPLE}.kraken | awk '{gsub(\";\",\"\\t\"); print}'| ktImportText > files/week13_data/KRAKEN/day_${SAMPLE}.krona.html\n",
    "done"
   ]
  },
  {
   "cell_type": "markdown",
   "metadata": {},
   "source": [
    "ktImportText day_88.kraken > day_88.html\n",
    "ktImportText day_89.kraken > day_89.html\n",
    "ktImportText day_90.kraken > day_90.html\n",
    "ktImportText day_93.kraken > day_93.html\n",
    "ktImportText day_94.kraken > day_94.html\n",
    "ktImportText day_97.kraken > day_97.html"
   ]
  },
  {
   "cell_type": "markdown",
   "metadata": {},
   "source": [
    "Question 1: Briefly comment on the trends you see in the gut microbiota throughout the first week."
   ]
  },
  {
   "cell_type": "markdown",
   "metadata": {},
   "source": [
    "# Step 2: Deconvolute the assembled scaffolds into individual genomes (binning)"
   ]
  },
  {
   "cell_type": "markdown",
   "metadata": {},
   "source": [
    "Looking at pie charts is a good way to get a feel for what the microbial communities look like, but we want to know more about individual bacteria! In order to track the changes in abundances of individual prokaryotes throughout time, we need to first extract their genomes from the assembly. As mentioned above, their genomes will be highly fragmented, so the challenge is to “bin” these fragments (contigs or scaffolds) into groups. Ideally, each bin will be a single genome. Our grouping needs to be inclusive enough to get all the parts of each genome, but also specific enough to not include the wrong pieces. Sounds hard, right? It is! Luckily, there is software that can help us…\n",
    "\n",
    "One software tool that does this is metaBAT. Go ahead and conda install metabat2, and look over the usage examples and guidelines here. Note that you need to align the reads from multiple samples to the assembly to get the coverage of each contig in all the samples. We recommend that you use BWA to align reads to the assembly. Note that this should result in 8 separate alignment files that you will provide to metaBAT."
   ]
  },
  {
   "cell_type": "markdown",
   "metadata": {},
   "source": [
    "Question 2: What metrics in the contigs can we use to group them together?\n",
    "\n",
    "Question 3:\n",
    "(A) How many bins did you get?\n",
    "(B) Roughly what percentage of the assembly do they represent?\n",
    "(C) Do you think the sizes of each bin look about right, based on what you know about the size of prokaryotic genomes?\n",
    "(D) How would you estimate how complete and how contaminated each bin is?"
   ]
  },
  {
   "cell_type": "code",
   "execution_count": null,
   "metadata": {},
   "outputs": [],
   "source": []
  }
 ],
 "metadata": {
  "kernelspec": {
   "display_name": "Python 3",
   "language": "python",
   "name": "python3"
  },
  "language_info": {
   "codemirror_mode": {
    "name": "ipython",
    "version": 3
   },
   "file_extension": ".py",
   "mimetype": "text/x-python",
   "name": "python",
   "nbconvert_exporter": "python",
   "pygments_lexer": "ipython3",
   "version": "3.6.12"
  }
 },
 "nbformat": 4,
 "nbformat_minor": 4
}
