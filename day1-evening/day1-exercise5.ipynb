{
 "cells": [
  {
   "cell_type": "markdown",
   "metadata": {},
   "source": [
    "# Count number of reads that start their alignment on chromosome 2L between base 10000 and 20000 (inclusive)"
   ]
  },
  {
   "cell_type": "code",
   "execution_count": 1,
   "metadata": {},
   "outputs": [
    {
     "name": "stdout",
     "output_type": "stream",
     "text": [
      "7550\n"
     ]
    }
   ],
   "source": [
    "#open the file\n",
    "fs=open(\"/Users/cmdb/SRR072893.sam\", 'r')\n",
    "#reset reading frame\n",
    "fs.seek(0)\n",
    "#establish variable\n",
    "num_r=0\n",
    "for read in fs:\n",
    "    rsp=read.split()\n",
    "    #split into columns\n",
    "    if \"2L\" in read and 9999 < int(rsp[3]) < 20001:\n",
    "        #specify chr and pos\n",
    "        num_r= num_r+1\n",
    "        #increase count\n",
    "print(num_r)\n",
    "#print answer      "
   ]
  },
  {
   "cell_type": "code",
   "execution_count": null,
   "metadata": {},
   "outputs": [],
   "source": []
  }
 ],
 "metadata": {
  "kernelspec": {
   "display_name": "Python 3",
   "language": "python",
   "name": "python3"
  },
  "language_info": {
   "codemirror_mode": {
    "name": "ipython",
    "version": 3
   },
   "file_extension": ".py",
   "mimetype": "text/x-python",
   "name": "python",
   "nbconvert_exporter": "python",
   "pygments_lexer": "ipython3",
   "version": "3.6.10"
  }
 },
 "nbformat": 4,
 "nbformat_minor": 4
}
