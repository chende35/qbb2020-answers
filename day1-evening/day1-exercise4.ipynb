{
 "cells": [
  {
   "cell_type": "markdown",
   "metadata": {},
   "source": [
    "# reading in file, counting total, splitting the file, summing it"
   ]
  },
  {
   "cell_type": "code",
   "execution_count": 7,
   "metadata": {},
   "outputs": [
    {
     "name": "stdout",
     "output_type": "stream",
     "text": [
      "119281565\n"
     ]
    },
    {
     "data": {
      "text/plain": [
       "59.6407825"
      ]
     },
     "execution_count": 7,
     "metadata": {},
     "output_type": "execute_result"
    }
   ],
   "source": [
    "fs=open(\"/Users/cmdb/SRR072893.sam\", 'r')\n",
    "num_r=0\n",
    "reads = []\n",
    "for read in fs:\n",
    "    num_r=num_r+1\n",
    "    reads.append(read.split())\n",
    "mapq = []\n",
    "sum = 0\n",
    "for read in reads:\n",
    "    sum = sum + int(read[4])\n",
    "print(sum)\n",
    "sum/num_r\n"
   ]
  },
  {
   "cell_type": "markdown",
   "metadata": {},
   "source": [
    "# final output"
   ]
  },
  {
   "cell_type": "code",
   "execution_count": 8,
   "metadata": {},
   "outputs": [
    {
     "name": "stdout",
     "output_type": "stream",
     "text": [
      "The average MAPQ is  59.6407825\n"
     ]
    }
   ],
   "source": [
    "average_mapq = sum/num_r\n",
    "print(\"The average MAPQ is \", average_mapq)"
   ]
  },
  {
   "cell_type": "code",
   "execution_count": null,
   "metadata": {},
   "outputs": [],
   "source": []
  }
 ],
 "metadata": {
  "kernelspec": {
   "display_name": "Python 3",
   "language": "python",
   "name": "python3"
  },
  "language_info": {
   "codemirror_mode": {
    "name": "ipython",
    "version": 3
   },
   "file_extension": ".py",
   "mimetype": "text/x-python",
   "name": "python",
   "nbconvert_exporter": "python",
   "pygments_lexer": "ipython3",
   "version": "3.6.10"
  }
 },
 "nbformat": 4,
 "nbformat_minor": 4
}
