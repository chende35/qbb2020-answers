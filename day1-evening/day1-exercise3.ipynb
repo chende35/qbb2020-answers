{
 "cells": [
  {
   "cell_type": "markdown",
   "metadata": {},
   "source": [
    "# opening and examining file"
   ]
  },
  {
   "cell_type": "code",
   "execution_count": 1,
   "metadata": {},
   "outputs": [
    {
     "name": "stdout",
     "output_type": "stream",
     "text": [
      "SRR072893.1692271\t0\t2L\t7583\t60\t40M\t*\t0\t0\tAGAGAACCCACGTTTGAACAAGTATCGGCGTGTGGACAAC\t<9799:>A>?:?:?>A?>><1;297-00+/C@@C8/>@49\tAS:i:0\tXN:i:0\tXM:i:0\tXO:i:0\tXG:i:0\tNM:i:0\tMD:Z:40\tYT:Z:UU\tNH:i:1\n",
      "\n"
     ]
    }
   ],
   "source": [
    "fs=open(\"/Users/cmdb/SRR072893.sam\", 'r')\n",
    "line=fs.readline()\n",
    "print(line)\n",
    "fs.close()"
   ]
  },
  {
   "cell_type": "markdown",
   "metadata": {},
   "source": [
    "# just the chr on the first 10 reads"
   ]
  },
  {
   "cell_type": "code",
   "execution_count": 2,
   "metadata": {},
   "outputs": [
    {
     "name": "stdout",
     "output_type": "stream",
     "text": [
      "['2L', '2L', '2L', '2L', '2L', '2L', '2L', '2L', '2L', '2L']\n"
     ]
    }
   ],
   "source": [
    "fs=open(\"/Users/cmdb/SRR072893.sam\", 'r')\n",
    "num_r=0\n",
    "reads = []\n",
    "for read in fs:\n",
    "    num_r= num_r + 1\n",
    "    if num_r <11:\n",
    "        reads.append(read.split())\n",
    "#print(reads)\n",
    "chr = []\n",
    "for read in reads:\n",
    "    chr.append(read[2])\n",
    "print(chr)"
   ]
  }
 ],
 "metadata": {
  "kernelspec": {
   "display_name": "Python 3",
   "language": "python",
   "name": "python3"
  },
  "language_info": {
   "codemirror_mode": {
    "name": "ipython",
    "version": 3
   },
   "file_extension": ".py",
   "mimetype": "text/x-python",
   "name": "python",
   "nbconvert_exporter": "python",
   "pygments_lexer": "ipython3",
   "version": "3.6.10"
  }
 },
 "nbformat": 4,
 "nbformat_minor": 4
}
