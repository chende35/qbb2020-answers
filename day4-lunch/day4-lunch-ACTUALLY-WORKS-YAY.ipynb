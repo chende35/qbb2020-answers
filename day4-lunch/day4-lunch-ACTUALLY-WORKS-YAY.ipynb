{
 "cells": [
  {
   "cell_type": "markdown",
   "metadata": {},
   "source": [
    "# Take input file, and make a list of lists"
   ]
  },
  {
   "cell_type": "code",
   "execution_count": 41,
   "metadata": {},
   "outputs": [],
   "source": [
    "search_chr = '3R'\n",
    "search_pos = 21378950\n",
    "master_list = []\n",
    "file = '/Users/cmdb/qbb2020-answers/day3-files/nohash_BDGP6.Ensembl.81.gtf'\n",
    "for line in open(file):\n",
    "#\tif line.startswith('#'):\n",
    "#\t\tcontinue\n",
    "\tfields = line.strip('\\r\\n').split('\\t')\n",
    "\tstart = int(fields[3])\n",
    "\tend = int(fields[4])\n",
    "\tchrVal = fields[0]\n",
    "\tfeature = fields[2]\n",
    "\tif chrVal == search_chr and feature=='gene' and 'gene_biotype \"protein_coding\"' in fields[-1]:\n",
    "\t\t# grab gene name\n",
    "\t\tsubfields = fields[-1].split(';')\n",
    "\t\tfor field in subfields:\n",
    "\t\t\tif \"gene_name\" in field:\n",
    "\t\t\t\tgene_name = field.split()[1]\n",
    "\t\tmaster_list.append([start, end, gene_name])\t"
   ]
  },
  {
   "cell_type": "markdown",
   "metadata": {},
   "source": [
    "# testing list "
   ]
  },
  {
   "cell_type": "code",
   "execution_count": 5,
   "metadata": {},
   "outputs": [
    {
     "name": "stdout",
     "output_type": "stream",
     "text": [
      "[[2554124, 3263573, '\"CG45783\"'], [3322810, 3354486, '\"spok\"'], [3461351, 3587054, '\"Parp\"'], [3623143, 3627690, '\"Alg-2\"'], [3734855, 3745306, '\"Tim17b\"'], [3750363, 3752353, '\"CG41128\"'], [3846729, 3868401, '\"CG41099\"'], [4077939, 4104326, '\"CG42402\"'], [4126442, 4137882, '\"Gfat1\"']]\n",
      "3406\n"
     ]
    }
   ],
   "source": [
    "print(master_list[1:10])\n",
    "print(len(master_list))"
   ]
  },
  {
   "cell_type": "markdown",
   "metadata": {},
   "source": [
    "# trying again on the recursive function"
   ]
  },
  {
   "cell_type": "code",
   "execution_count": 48,
   "metadata": {},
   "outputs": [],
   "source": [
    "def recursive_function(alist, low, high, search_pos):\n",
    "    mid = (high+low)//2\n",
    "    mid_gene = alist[mid]\n",
    "    count = 0\n",
    "    \n",
    "    if low <= high:\n",
    "        count +=1\n",
    "        \n",
    "        #checking the base case\n",
    "        if mid_gene[0] == search_pos:\n",
    "            return mid\n",
    "        \n",
    "        elif mid_gene[0] > search_pos:\n",
    "            return recursive_function(alist, low, mid - 1, search_pos)\n",
    "        \n",
    "        #elif mid_gene[0] < search_pos:\n",
    "        else:\n",
    "            return recursive_function(alist, mid + 1, high, search_pos)\n",
    "            \n",
    "            \n",
    "    print(alist[mid], count)\n",
    "\n",
    "    \n",
    "    \n",
    "    "
   ]
  },
  {
   "cell_type": "code",
   "execution_count": 49,
   "metadata": {},
   "outputs": [
    {
     "name": "stdout",
     "output_type": "stream",
     "text": [
      "[21370918, 21373575, '\"pre-mod(mdg4)-N\"'] 0\n"
     ]
    }
   ],
   "source": [
    "recursive_function(master_list, 0, (len(master_list)-1), 21378950)"
   ]
  },
  {
   "cell_type": "code",
   "execution_count": null,
   "metadata": {},
   "outputs": [],
   "source": []
  },
  {
   "cell_type": "code",
   "execution_count": null,
   "metadata": {},
   "outputs": [],
   "source": []
  },
  {
   "cell_type": "code",
   "execution_count": null,
   "metadata": {},
   "outputs": [],
   "source": []
  },
  {
   "cell_type": "code",
   "execution_count": null,
   "metadata": {},
   "outputs": [],
   "source": []
  }
 ],
 "metadata": {
  "kernelspec": {
   "display_name": "Python 3",
   "language": "python",
   "name": "python3"
  },
  "language_info": {
   "codemirror_mode": {
    "name": "ipython",
    "version": 3
   },
   "file_extension": ".py",
   "mimetype": "text/x-python",
   "name": "python",
   "nbconvert_exporter": "python",
   "pygments_lexer": "ipython3",
   "version": "3.6.10"
  }
 },
 "nbformat": 4,
 "nbformat_minor": 4
}
