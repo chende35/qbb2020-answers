{
 "cells": [
  {
   "cell_type": "code",
   "execution_count": null,
   "metadata": {},
   "outputs": [],
   "source": [
    "first we are going to read in the gtf file:\n",
    "    open the file\n",
    "    for line in file:\n",
    "        skip the header\n",
    "        is the line for a feature\n",
    "            a 'gene'col 3 col[2]\n",
    "            on search ch\n",
    "            a protein coding gene\n",
    "        if yes, store:\n",
    "            start\n",
    "            end\n",
    "            gene_name\n",
    "        store it in a list!\n",
    "            how w 3 things?\n",
    "            -array (numpy)\n",
    "            -dataframe (pandas)\n",
    "            -tuple(immutable which is ideal)\n",
    "        our low is the smallest start value?\n",
    "        our high is the highest end value?\n",
    "        our low is the 0th gene\n",
    "        our high is the (n-1)th gene\n",
    "        find mid value of range (our first guess)\n",
    "            gonna use this to index and establish our new high or low\n",
    "                gonna need a conditional here\n",
    "            gonna need to redefine our new mid\n",
    "                we are gonna need this to be an integer (floor or int())\n",
    "            add one to our counter\n",
    "            this is going to be in a loop\n",
    "            its going to be a while loop\n",
    "                could define based on our range\n",
    "                could be when we refine our mid (if we are right its the same)\n",
    "            \n",
    "            \n",
    "            \n",
    "    \n",
    "define counter outside of a loop"
   ]
  },
  {
   "cell_type": "code",
   "execution_count": null,
   "metadata": {},
   "outputs": [],
   "source": [
    "# step 1: making the list"
   ]
  },
  {
   "cell_type": "code",
   "execution_count": 22,
   "metadata": {
    "scrolled": true
   },
   "outputs": [
    {
     "ename": "NameError",
     "evalue": "name 'gene' is not defined",
     "output_type": "error",
     "traceback": [
      "\u001b[0;31m---------------------------------------------------------------------------\u001b[0m",
      "\u001b[0;31mNameError\u001b[0m                                 Traceback (most recent call last)",
      "\u001b[0;32m<ipython-input-22-6b06f5b27c4c>\u001b[0m in \u001b[0;36m<module>\u001b[0;34m()\u001b[0m\n\u001b[1;32m     13\u001b[0m     \u001b[0;31m#genename_almost = list(attribute_fields[6].strip.split())\u001b[0m\u001b[0;34m\u001b[0m\u001b[0;34m\u001b[0m\u001b[0;34m\u001b[0m\u001b[0m\n\u001b[1;32m     14\u001b[0m     \u001b[0;31m#genename=genename_almost[2]\u001b[0m\u001b[0;34m\u001b[0m\u001b[0;34m\u001b[0m\u001b[0;34m\u001b[0m\u001b[0m\n\u001b[0;32m---> 15\u001b[0;31m     \u001b[0;32mif\u001b[0m \u001b[0mfields\u001b[0m\u001b[0;34m[\u001b[0m\u001b[0;36m0\u001b[0m\u001b[0;34m]\u001b[0m \u001b[0;34m==\u001b[0m \u001b[0;34m'3R'\u001b[0m \u001b[0;32mand\u001b[0m \u001b[0mfields\u001b[0m\u001b[0;34m[\u001b[0m\u001b[0;36m2\u001b[0m\u001b[0;34m]\u001b[0m\u001b[0;34m==\u001b[0m\u001b[0mgene\u001b[0m \u001b[0;32mand\u001b[0m \u001b[0;34m'protein_coding'\u001b[0m \u001b[0;32min\u001b[0m \u001b[0mfields\u001b[0m\u001b[0;34m[\u001b[0m\u001b[0;36m8\u001b[0m\u001b[0;34m]\u001b[0m\u001b[0;34m:\u001b[0m\u001b[0;34m\u001b[0m\u001b[0;34m\u001b[0m\u001b[0m\n\u001b[0m\u001b[1;32m     16\u001b[0m         \u001b[0mstart\u001b[0m\u001b[0;34m=\u001b[0m\u001b[0mfields\u001b[0m\u001b[0;34m[\u001b[0m\u001b[0;36m3\u001b[0m\u001b[0;34m]\u001b[0m\u001b[0;34m\u001b[0m\u001b[0;34m\u001b[0m\u001b[0m\n\u001b[1;32m     17\u001b[0m         \u001b[0mend\u001b[0m\u001b[0;34m=\u001b[0m\u001b[0mfields\u001b[0m\u001b[0;34m[\u001b[0m\u001b[0;36m4\u001b[0m\u001b[0;34m]\u001b[0m\u001b[0;34m\u001b[0m\u001b[0;34m\u001b[0m\u001b[0m\n",
      "\u001b[0;31mNameError\u001b[0m: name 'gene' is not defined"
     ]
    }
   ],
   "source": [
    "# read in the file\n",
    "# took out the # in command line:\n",
    "    #grep -v \"#\" BDGP6.Ensembl.81.gtf >> nohash_BDGP6.Ensembl.81.gtf\n",
    "gene_file = open('/Users/cmdb/qbb2020-answers/day3-files/nohash_BDGP6.Ensembl.81.gtf')\n",
    "gene_list = []\n",
    "for line in gene_file:\n",
    "    fields = line.strip('\\n').split(sep = '\\t')\n",
    "#    subfields=list(line.fields[8].split(sep = ';'))\n",
    "#        for field in subfields:\n",
    "#            if 'gene_name' in field:\n",
    "#                gene_name = field.split()[1]\n",
    "    \n",
    "    #genename_almost = list(attribute_fields[6].strip.split())\n",
    "    #genename=genename_almost[2]\n",
    "    if fields[0] == '3R' and fields[2]==gene and 'protein_coding' in fields[8]:\n",
    "        start=fields[3]\n",
    "        end=fields[4]\n",
    "        subfields=line.fields[8].strip('\\n').split(sep = ';')\n",
    "        for field in subfields:\n",
    "            if 'gene_name' in field:\n",
    "                gene_name = field.split()[1]\n",
    "                continue\n",
    "        gene_list.append(tuple((start, end, gene_name)))\n",
    "\n",
    "                         \n",
    "        \n",
    " # gene_name \"CG42402\"      "
   ]
  },
  {
   "cell_type": "code",
   "execution_count": 7,
   "metadata": {},
   "outputs": [],
   "source": [
    "import pandas as pd"
   ]
  },
  {
   "cell_type": "code",
   "execution_count": 14,
   "metadata": {},
   "outputs": [
    {
     "name": "stdout",
     "output_type": "stream",
     "text": [
      "[]\n"
     ]
    }
   ],
   "source": [
    "print(gene_list[0:10])"
   ]
  },
  {
   "cell_type": "markdown",
   "metadata": {},
   "source": [
    "# part 1: make the master list"
   ]
  },
  {
   "cell_type": "code",
   "execution_count": 31,
   "metadata": {},
   "outputs": [],
   "source": [
    "search_chr = '3R'\n",
    "search_pos = 21378950\n",
    "master_list = []\n",
    "file = '/Users/cmdb/qbb2020-answers/day3-files/nohash_BDGP6.Ensembl.81.gtf'\n",
    "for line in open(file):\n",
    "#\tif line.startswith('#'):\n",
    "#\t\tcontinue\n",
    "\tfields = line.strip('\\r\\n').split('\\t')\n",
    "\tstart = int(fields[3])\n",
    "\tend = int(fields[4])\n",
    "\tchrVal = fields[0]\n",
    "\tfeature = fields[2]\n",
    "\tif chrVal == search_chr and feature=='gene' and 'gene_biotype \"protein_coding\"' in fields[-1]:\n",
    "\t\t# grab gene name\n",
    "\t\tsubfields = fields[-1].split(';')\n",
    "\t\tfor field in subfields:\n",
    "\t\t\tif \"gene_name\" in field:\n",
    "\t\t\t\tgene_name = field.split()[1]\n",
    "\t\tmaster_list.append((start, end, gene_name))\t"
   ]
  },
  {
   "cell_type": "code",
   "execution_count": 32,
   "metadata": {
    "scrolled": false
   },
   "outputs": [
    {
     "name": "stdout",
     "output_type": "stream",
     "text": [
      "[(2554124, 3263573, '\"CG45783\"'), (3322810, 3354486, '\"spok\"'), (3461351, 3587054, '\"Parp\"'), (3623143, 3627690, '\"Alg-2\"'), (3734855, 3745306, '\"Tim17b\"'), (3750363, 3752353, '\"CG41128\"'), (3846729, 3868401, '\"CG41099\"'), (4077939, 4104326, '\"CG42402\"'), (4126442, 4137882, '\"Gfat1\"')]\n",
      "3406\n"
     ]
    }
   ],
   "source": [
    "print(master_list[1:10])\n",
    "print(len(master_list))"
   ]
  },
  {
   "cell_type": "code",
   "execution_count": null,
   "metadata": {},
   "outputs": [],
   "source": [
    "low_index = 0\n",
    "high_index = len(master_list)-1\n",
    "r_ange=high_index-low_index\n",
    "\n",
    "while r_ange > 1:\n",
    "\n",
    "    low_index = 0\n",
    "    high_index = len(master_list)-1\n",
    "    mid_index = ((high_index-low_index)//2)\n",
    "\n",
    "    low_gene = master_list[low_index]\n",
    "    high_gene = master_list[high_index]\n",
    "    mid_gene = master_list[mid_index]\n",
    "\n",
    "    if abs(mid_gene[0]-search_pos) > abs(mid_gene[0]-search_pos):\n",
    "        #we need to go further down the list\n",
    "        #this value should be our new start\n",
    "        \n",
    "        low_index=mid_index\n",
    "        mid_index=((high_index-low_index)//2)\n",
    "        \n",
    "    if abs(mid_gene[0]-search_pos) < abs(mid_gene[0]-search_pos):\n",
    "        #we need to go further up the list\n",
    "        #this value should be our new end\n",
    "        high_index=mid_index\n",
    "        mid_index=((high_index-low_index)//2)\n",
    "        \n",
    "print(mid_gene)"
   ]
  },
  {
   "cell_type": "code",
   "execution_count": null,
   "metadata": {},
   "outputs": [],
   "source": []
  }
 ],
 "metadata": {
  "kernelspec": {
   "display_name": "Python 3",
   "language": "python",
   "name": "python3"
  },
  "language_info": {
   "codemirror_mode": {
    "name": "ipython",
    "version": 3
   },
   "file_extension": ".py",
   "mimetype": "text/x-python",
   "name": "python",
   "nbconvert_exporter": "python",
   "pygments_lexer": "ipython3",
   "version": "3.6.10"
  }
 },
 "nbformat": 4,
 "nbformat_minor": 4
}
