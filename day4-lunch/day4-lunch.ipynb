{
 "cells": [
  {
   "cell_type": "markdown",
   "metadata": {},
   "source": [
    "first we are going to read in the gtf file:\n",
    "    open the file\n",
    "    for line in file:\n",
    "        skip the header\n",
    "        is the line for a feature\n",
    "            a 'gene'col 3 col[2]\n",
    "            on search ch\n",
    "            a protein coding gene\n",
    "        if yes, store:\n",
    "            start\n",
    "            end\n",
    "            gene_name\n",
    "        store it in a list!\n",
    "            how w 3 things?\n",
    "            -array (numpy)\n",
    "            -dataframe (pandas)\n",
    "            -tuple(immutable which is ideal)\n",
    "        our low is the smallest start value?\n",
    "        our high is the highest end value?\n",
    "        our low is the 0th gene\n",
    "        our high is the (n-1)th gene\n",
    "        find mid value of range (our first guess)\n",
    "            gonna use this to index and establish our new high or low\n",
    "                gonna need a conditional here\n",
    "            gonna need to redefine our new mid\n",
    "                we are gonna need this to be an integer (floor or int())\n",
    "            add one to our counter\n",
    "            this is going to be in a loop\n",
    "            its going to be a while loop\n",
    "                could define based on our range\n",
    "                could be when we refine our mid (if we are right its the same)\n",
    "            \n",
    "            \n",
    "            \n",
    "    \n",
    "define counter outside of a loop"
   ]
  },
  {
   "cell_type": "markdown",
   "metadata": {},
   "source": [
    "# step 1: making the list"
   ]
  },
  {
   "cell_type": "markdown",
   "metadata": {
    "scrolled": true
   },
   "source": [
    "# read in the file\n",
    "# took out the # in command line:\n",
    "    #grep -v \"#\" BDGP6.Ensembl.81.gtf >> nohash_BDGP6.Ensembl.81.gtf\n",
    "gene_file = open('/Users/cmdb/qbb2020-answers/day3-files/nohash_BDGP6.Ensembl.81.gtf')\n",
    "gene_list = []\n",
    "for line in gene_file:\n",
    "    fields = line.strip('\\n').split(sep = '\\t')\n",
    "#    subfields=list(line.fields[8].split(sep = ';'))\n",
    "#        for field in subfields:\n",
    "#            if 'gene_name' in field:\n",
    "#                gene_name = field.split()[1]\n",
    "    \n",
    "    #genename_almost = list(attribute_fields[6].strip.split())\n",
    "    #genename=genename_almost[2]\n",
    "    if fields[0] == '3R' and fields[2]==gene and 'protein_coding' in fields[8]:\n",
    "        start=fields[3]\n",
    "        end=fields[4]\n",
    "        subfields=line.fields[8].strip('\\n').split(sep = ';')\n",
    "        for field in subfields:\n",
    "            if 'gene_name' in field:\n",
    "                gene_name = field.split()[1]\n",
    "                continue\n",
    "        gene_list.append(tuple((start, end, gene_name)))\n",
    "\n",
    "                         \n",
    "        \n",
    " # gene_name \"CG42402\"      "
   ]
  },
  {
   "cell_type": "markdown",
   "metadata": {},
   "source": [
    "import pandas as pd"
   ]
  },
  {
   "cell_type": "markdown",
   "metadata": {},
   "source": [
    "print(gene_list[0:10])"
   ]
  },
  {
   "cell_type": "markdown",
   "metadata": {},
   "source": [
    "# part 1: make the master list"
   ]
  },
  {
   "cell_type": "code",
   "execution_count": 2,
   "metadata": {},
   "outputs": [],
   "source": [
    "search_chr = '3R'\n",
    "search_pos = 21378950\n",
    "master_list = []\n",
    "file = '/Users/cmdb/qbb2020-answers/day3-files/nohash_BDGP6.Ensembl.81.gtf'\n",
    "for line in open(file):\n",
    "#\tif line.startswith('#'):\n",
    "#\t\tcontinue\n",
    "\tfields = line.strip('\\r\\n').split('\\t')\n",
    "\tstart = int(fields[3])\n",
    "\tend = int(fields[4])\n",
    "\tchrVal = fields[0]\n",
    "\tfeature = fields[2]\n",
    "\tif chrVal == search_chr and feature=='gene' and 'gene_biotype \"protein_coding\"' in fields[-1]:\n",
    "\t\t# grab gene name\n",
    "\t\tsubfields = fields[-1].split(';')\n",
    "\t\tfor field in subfields:\n",
    "\t\t\tif \"gene_name\" in field:\n",
    "\t\t\t\tgene_name = field.split()[1]\n",
    "\t\tmaster_list.append([start, end, gene_name])\t"
   ]
  },
  {
   "cell_type": "code",
   "execution_count": 3,
   "metadata": {
    "scrolled": true
   },
   "outputs": [
    {
     "name": "stdout",
     "output_type": "stream",
     "text": [
      "[[2554124, 3263573, '\"CG45783\"'], [3322810, 3354486, '\"spok\"'], [3461351, 3587054, '\"Parp\"'], [3623143, 3627690, '\"Alg-2\"'], [3734855, 3745306, '\"Tim17b\"'], [3750363, 3752353, '\"CG41128\"'], [3846729, 3868401, '\"CG41099\"'], [4077939, 4104326, '\"CG42402\"'], [4126442, 4137882, '\"Gfat1\"']]\n",
      "3406\n"
     ]
    }
   ],
   "source": [
    "print(master_list[1:10])\n",
    "print(len(master_list))"
   ]
  },
  {
   "cell_type": "markdown",
   "metadata": {},
   "source": [
    "#just testing some things"
   ]
  },
  {
   "cell_type": "code",
   "execution_count": 33,
   "metadata": {},
   "outputs": [
    {
     "name": "stdout",
     "output_type": "stream",
     "text": [
      "[11164423, 11166074, '\"Ugt86Dg\"'] 852\n"
     ]
    }
   ],
   "source": [
    "low_index=1702\n",
    "low_gene=master_list[low_index]\n",
    "\n",
    "high_index = (len(master_list)-1)\n",
    "#high_index =\n",
    "high_gene = master_list[high_index]\n",
    "\n",
    "mid_index = int((high_index - low_index)/2)+1\n",
    "mid_gene = master_list[mid_index]\n",
    "print(mid_gene, mid_index)"
   ]
  },
  {
   "cell_type": "markdown",
   "metadata": {},
   "source": [
    "# this is the problem section!"
   ]
  },
  {
   "cell_type": "code",
   "execution_count": 82,
   "metadata": {},
   "outputs": [
    {
     "name": "stdout",
     "output_type": "stream",
     "text": [
      "[835381, 2503907, '\"CG45784\"'] 132\n"
     ]
    }
   ],
   "source": [
    "search_pos = 21378950\n",
    "\n",
    "low =0 \n",
    "low_gene=master_list[low]\n",
    "\n",
    "high = (len(master_list)-1)\n",
    "high_gene = master_list[high]\n",
    "\n",
    "mid = 0 #int((high - low)/2)\n",
    "mid_gene = master_list[mid]\n",
    "r_ange = high-low\n",
    "\n",
    "\n",
    "while r_ange < 2:\n",
    "    count += 1 \n",
    "    r_ange = high-low\n",
    "    mid_gene = master_list[mid]\n",
    "    mid = int((high - low)/2)\n",
    "    \n",
    "    if mid_gene[0] > search_pos:\n",
    "        #need to go up the list\n",
    "        high = mid-1\n",
    "        \n",
    "        \n",
    "    elif mid_gene[0] < search_pos:\n",
    "        #need to go down the list\n",
    "        low = mid+1\n",
    "    \n",
    "    if mid_gene[0] > search_pos and mid_gene[1] < search_pos:\n",
    "        break\n",
    "    \n",
    "        \n",
    "    if count > 100:\n",
    "        print('looping too much')\n",
    "        break\n",
    "print(mid_gene, count)"
   ]
  },
  {
   "cell_type": "code",
   "execution_count": null,
   "metadata": {},
   "outputs": [],
   "source": []
  },
  {
   "cell_type": "code",
   "execution_count": null,
   "metadata": {},
   "outputs": [],
   "source": []
  },
  {
   "cell_type": "code",
   "execution_count": null,
   "metadata": {},
   "outputs": [],
   "source": []
  },
  {
   "cell_type": "code",
   "execution_count": null,
   "metadata": {},
   "outputs": [],
   "source": []
  },
  {
   "cell_type": "code",
   "execution_count": null,
   "metadata": {},
   "outputs": [],
   "source": []
  },
  {
   "cell_type": "code",
   "execution_count": null,
   "metadata": {},
   "outputs": [],
   "source": []
  },
  {
   "cell_type": "code",
   "execution_count": null,
   "metadata": {},
   "outputs": [],
   "source": []
  },
  {
   "cell_type": "code",
   "execution_count": null,
   "metadata": {},
   "outputs": [],
   "source": []
  },
  {
   "cell_type": "code",
   "execution_count": null,
   "metadata": {},
   "outputs": [],
   "source": []
  },
  {
   "cell_type": "code",
   "execution_count": null,
   "metadata": {},
   "outputs": [],
   "source": []
  },
  {
   "cell_type": "code",
   "execution_count": null,
   "metadata": {},
   "outputs": [],
   "source": []
  },
  {
   "cell_type": "code",
   "execution_count": null,
   "metadata": {},
   "outputs": [],
   "source": []
  },
  {
   "cell_type": "code",
   "execution_count": 65,
   "metadata": {},
   "outputs": [
    {
     "name": "stdout",
     "output_type": "stream",
     "text": [
      "looping too much\n",
      "[17919832, 18018892, '\"cpo\"'] 1702 121 100 1 0\n"
     ]
    }
   ],
   "source": [
    "search_pos = 21378950\n",
    "\n",
    "low =0 \n",
    "low_gene=master_list[low_index]\n",
    "\n",
    "high = (len(master_list)-1)\n",
    "high_gene = master_list[high_index]\n",
    "\n",
    "mid = (high_index - low_index)//2\n",
    "mid_gene = master_list[mid_index]\n",
    "\n",
    "while low < high:\n",
    "    count += 1 \n",
    "    mid_gene = master_list[mid]\n",
    "    \n",
    "    \n",
    "    if count > 100:\n",
    "        # seeing if its just looping forever\n",
    "        print('looping too much')\n",
    "        break\n",
    "    \n",
    "    if mid_gene[0] < search_pos:\n",
    "        #need to go further down the list, mid value is now the low value\n",
    "        low = mid - 1\n",
    "        #high = high\n",
    "        mid = int((high - low)/2)+1\n",
    "        count_1 +=1\n",
    "        \n",
    "    if mid_gene[0] > search_pos:\n",
    "        high = mid + 1\n",
    "        #low = low\n",
    "        mid = int((high - low)/2)\n",
    "        count_2 +=1\n",
    "        \n",
    "    else:\n",
    "        count_3 +=1\n",
    "        \n",
    "    if count_3 > 100:\n",
    "        print('else error')\n",
    "        break\n",
    "        #seeing if its not choosing an option?\n",
    "        \n",
    "print(mid_gene, mid_index, count, count_1, count_2, count_3)"
   ]
  },
  {
   "cell_type": "code",
   "execution_count": 59,
   "metadata": {},
   "outputs": [
    {
     "name": "stdout",
     "output_type": "stream",
     "text": [
      "looping too much\n",
      "[17919832, 18018892, '\"cpo\"'] 1702 115 100 1 0\n"
     ]
    }
   ],
   "source": [
    "search_pos = 21378950\n",
    "\n",
    "low =0 \n",
    "low_gene=master_list[low_index]\n",
    "\n",
    "high = (len(master_list)-1)\n",
    "high_gene = master_list[high_index]\n",
    "\n",
    "mid = (high_index - low_index)//2\n",
    "mid_gene = master_list[mid_index]\n",
    "\n",
    "while low < high:\n",
    "    count += 1 \n",
    "    mid_gene = master_list[mid]\n",
    "    \n",
    "    \n",
    "    if count > 100:\n",
    "        # seeing if its just looping forever\n",
    "        print('looping too much')\n",
    "        break\n",
    "    \n",
    "    if abs(search_pos - mid_gene[0]) > abs(search_pos - mid_gene[1]):\n",
    "        #need to go further down the list, mid value is now the low value\n",
    "        low = mid - 1\n",
    "        #high = high\n",
    "        mid = int((high - low)/2)+1\n",
    "        count_1 +=1\n",
    "        \n",
    "    elif abs(search_pos - mid_gene[0]) < abs(search_pos - mid_gene[1]):\n",
    "        high = mid + 1\n",
    "        #low = low\n",
    "        mid = int((high - low)/2)\n",
    "        count_2 +=1\n",
    "        \n",
    "    else:\n",
    "        count_3 +=1\n",
    "        \n",
    "    if count_3 > 100:\n",
    "        print('else error')\n",
    "        break\n",
    "        #seeing if its not choosing an option?\n",
    "        \n",
    "print(mid_gene, mid_index, count, count_1, count_2, count_3)"
   ]
  },
  {
   "cell_type": "markdown",
   "metadata": {},
   "source": [
    "# everything below this is nonsense!!!!"
   ]
  },
  {
   "cell_type": "code",
   "execution_count": null,
   "metadata": {},
   "outputs": [],
   "source": []
  },
  {
   "cell_type": "code",
   "execution_count": null,
   "metadata": {},
   "outputs": [],
   "source": []
  },
  {
   "cell_type": "code",
   "execution_count": null,
   "metadata": {},
   "outputs": [],
   "source": []
  },
  {
   "cell_type": "code",
   "execution_count": null,
   "metadata": {},
   "outputs": [],
   "source": []
  },
  {
   "cell_type": "code",
   "execution_count": null,
   "metadata": {},
   "outputs": [],
   "source": []
  },
  {
   "cell_type": "code",
   "execution_count": null,
   "metadata": {},
   "outputs": [],
   "source": []
  },
  {
   "cell_type": "code",
   "execution_count": null,
   "metadata": {},
   "outputs": [],
   "source": []
  },
  {
   "cell_type": "code",
   "execution_count": null,
   "metadata": {},
   "outputs": [],
   "source": []
  },
  {
   "cell_type": "code",
   "execution_count": null,
   "metadata": {},
   "outputs": [],
   "source": []
  },
  {
   "cell_type": "code",
   "execution_count": null,
   "metadata": {},
   "outputs": [],
   "source": []
  },
  {
   "cell_type": "code",
   "execution_count": null,
   "metadata": {},
   "outputs": [],
   "source": []
  },
  {
   "cell_type": "code",
   "execution_count": 44,
   "metadata": {},
   "outputs": [
    {
     "name": "stdout",
     "output_type": "stream",
     "text": [
      "-851\n",
      "[17919832, 18018892, '\"cpo\"'] 1 1 1 0 3459118 3360058\n"
     ]
    }
   ],
   "source": [
    "low_index=0 \n",
    "low_gene=master_list[low_index]\n",
    "\n",
    "high_index = (len(master_list)-1)\n",
    "high_gene = master_list[high_index]\n",
    "\n",
    "mid_index = (high_index - low_index)//2\n",
    "mid_gene = master_list[mid_index]\n",
    "\n",
    "r_ange = high_index-low_index\n",
    "count = 0\n",
    "count_1 = 0\n",
    "count_2 = 0\n",
    "count_3=0\n",
    "\n",
    "search_pos = 21378950\n",
    "\n",
    "while low_index <= high_index:\n",
    "    count += 1\n",
    "    if count > 300:\n",
    "        print('looping too much')\n",
    "        break\n",
    "    if count_3 > 50:\n",
    "        print('else error')\n",
    "        break\n",
    "        \n",
    "    low_gene=master_list[low_index]\n",
    "    high_gene = master_list[high_index]\n",
    "    mid_gene = master_list[mid_index]\n",
    "\n",
    "    if (search_pos - mid_gene[0]) > (search_pos - mid_gene[1]):\n",
    "        #need to go further down the list, mid value is now the low value\n",
    "        low_index = mid_index\n",
    "        mid_index = (high_index - low_index)//2\n",
    "        high_index = high_index\n",
    "        r_ange = high_index-low_index\n",
    "        count_1 +=1\n",
    "  \n",
    "    if (search_pos - mid_gene[0]) > (search_pos - mid_gene[1]):\n",
    "        #need to go further up the list, mid value is now the high value\n",
    "        high_index = mid_index\n",
    "        mid_index = (high_index - low_index)//2\n",
    "        r_ange = high_index-low_index\n",
    "        count_2 +=1\n",
    "        low_index = low_index\n",
    "        \n",
    "    else: \n",
    "        count_3 +=1\n",
    "print(r_ange)\n",
    "print(mid_gene, count, count_1, count_2, count_3,(search_pos - mid_gene[0]),(search_pos - mid_gene[1]))"
   ]
  },
  {
   "cell_type": "code",
   "execution_count": 4,
   "metadata": {},
   "outputs": [
    {
     "name": "stdout",
     "output_type": "stream",
     "text": [
      "looping too much\n",
      "[13121951, 13155687, '\"2mit\"']\n",
      "8256999\n",
      "8223263\n"
     ]
    }
   ],
   "source": [
    "low_index=0 \n",
    "low_gene=master_list[low_index]\n",
    "\n",
    "high_index = (len(master_list)-1)\n",
    "high_gene = master_list[high_index]\n",
    "\n",
    "mid_index = (high_index - low_index)//2\n",
    "mid_gene = master_list[mid_index]\n",
    "\n",
    "r_ange = high_index-low_index\n",
    "count = 0\n",
    "count_1 = 0\n",
    "\n",
    "while r_ange > 2:\n",
    "    count += 1\n",
    "    if count > 200:\n",
    "        print('looping too much')\n",
    "        break\n",
    "    if count_1 > 50:\n",
    "        print('else error')\n",
    "        break\n",
    "        \n",
    "    low_gene=master_list[low_index]\n",
    "    high_gene = master_list[high_index]\n",
    "    mid_gene = master_list[mid_index]\n",
    "\n",
    "    if abs(mid_gene[0] - search_pos) > abs(mid_gene[1] - search_pos):\n",
    "        #need to go further down the list, mid value is now the low value\n",
    "        low_index = mid_index+1\n",
    "        mid_index = (high_index - low_index)//2\n",
    "        r_ange = high_index-low_index\n",
    "        \n",
    "    elif abs(mid_gene[0] - search_pos) < abs(mid_gene[1] - search_pos):\n",
    "        #need to go further up the list, mid value is now the high value\n",
    "        high_index = mid_index-1\n",
    "        mid_index = (high_index - low_index)//2\n",
    "        r_ange = high_index-low_index\n",
    "    else: \n",
    "        count_1 +=1\n",
    "\n",
    "print(mid_gene)\n",
    "print(abs(mid_gene[0] - search_pos))\n",
    "print(abs(mid_gene[1] - search_pos))\n",
    "        "
   ]
  },
  {
   "cell_type": "code",
   "execution_count": 5,
   "metadata": {},
   "outputs": [
    {
     "ename": "SyntaxError",
     "evalue": "invalid syntax (<ipython-input-5-11cc3114c744>, line 17)",
     "output_type": "error",
     "traceback": [
      "\u001b[0;36m  File \u001b[0;32m\"<ipython-input-5-11cc3114c744>\"\u001b[0;36m, line \u001b[0;32m17\u001b[0m\n\u001b[0;31m    low_gene=master_list[low_index]\u001b[0m\n\u001b[0m           ^\u001b[0m\n\u001b[0;31mSyntaxError\u001b[0m\u001b[0;31m:\u001b[0m invalid syntax\n"
     ]
    }
   ],
   "source": [
    "low_index = 0\n",
    "high_index = (len(master_list)-1)\n",
    "range = high_index - low_index\n",
    "count = 0\n",
    "low_gene = []\n",
    "high_gene = []\n",
    "mid_gene = []\n",
    "\n",
    "while high_index > low_index:\n",
    "    count +=1\n",
    "    if count > 100:\n",
    "        print('looping pal')\n",
    "        break\n",
    "        \n",
    "    mid_index = ((high_index-low_index)/ int(2)\n",
    "    \n",
    "    low_gene=master_list[low_index]\n",
    "    high_gene = master_list[high_index]\n",
    "    mid_gene = master_list[mid_index]\n",
    "\n",
    "    if abs(mid_gene[0]-search_pos) > abs(mid_gene[1]-search_pos):\n",
    "        #we need to go further down the list\n",
    "        #this value should be our new start\n",
    "        count_1 +=1\n",
    "        if count_1 > 20:\n",
    "            print('looping')\n",
    "            break\n",
    "        \n",
    "        low_index=mid_index +1\n",
    "        mid_index=((high_index-low_index)//2)\n",
    "        \n",
    "    if abs(mid_gene[0]-search_pos) < abs(mid_gene[1]-search_pos):\n",
    "        #we need to go further up the list\n",
    "        #this value should be our new end\n",
    "        high_index=mid_index - 1\n",
    "        mid_index=((high_index-low_index)//2)\n",
    "        count_2 +=1\n",
    "        if count_2 > 20:\n",
    "            print('looping dummy')\n",
    "            break\n",
    "        \n",
    "        \n",
    "    r_ange=high_index-low_index\n",
    "    if count_3 >20:\n",
    "        print(\"im looping forever bro\")\n",
    "        break\n",
    "        \n",
    "print(mid_gene)"
   ]
  },
  {
   "cell_type": "code",
   "execution_count": null,
   "metadata": {},
   "outputs": [],
   "source": [
    "low = 0\n",
    "high = (len(master_list)-1)\n",
    "mid = int((high - low)/2)\n",
    "range = high - low\n",
    "count = 0\n",
    "\n",
    "def BinarySearchFunction(low,mid,high)\n",
    "search_chr = '3R'\n",
    "search_pos = 21378950"
   ]
  }
 ],
 "metadata": {
  "kernelspec": {
   "display_name": "Python 3",
   "language": "python",
   "name": "python3"
  },
  "language_info": {
   "codemirror_mode": {
    "name": "ipython",
    "version": 3
   },
   "file_extension": ".py",
   "mimetype": "text/x-python",
   "name": "python",
   "nbconvert_exporter": "python",
   "pygments_lexer": "ipython3",
   "version": "3.6.10"
  }
 },
 "nbformat": 4,
 "nbformat_minor": 4
}
