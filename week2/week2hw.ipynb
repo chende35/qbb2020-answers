{
 "cells": [
  {
   "cell_type": "markdown",
   "metadata": {},
   "source": [
    "# step 0: setup"
   ]
  },
  {
   "cell_type": "markdown",
   "metadata": {},
   "source": [
    "### conda environment:\n",
    "1. make new environment:\n",
    "    code:\n",
    "    conda create -n lab-week2 python=3 snpeff=4.3 freebayes vcflib vcftools bwa samtools\n",
    "    \n",
    "2. activate new environment:\n",
    "    code:\n",
    "    conda activate lab-week2\n",
    "    \n",
    "3. when done, to return to old environment:\n",
    "    code:\n",
    "    conda deactivate"
   ]
  },
  {
   "cell_type": "markdown",
   "metadata": {},
   "source": [
    "### data\n",
    "1. sequencing data: ten sets of single-end Illumina sequencing reads, each for a different yeast strain\n",
    "    \n",
    "    code:\n",
    "    \n",
    "    wget \"http://67.207.142.119/outgoing/BYxRM_subset.tar.xv\"\n",
    "    \n",
    "    tar -xvzf BYxRM_subset.tar.xv\n",
    "    \n",
    "2. reference data Saccharomyces cerevisiae reference genome. This reference is called sacCer3 by the UCSC genome browser, but its name in the NCBI Assembly archive is R64-1-1. combine these files into a single whole-genome reference\n",
    "\n",
    "    code:\n",
    "    \n",
    "    wget \"http://hgdownload.soe.ucsc.edu/goldenPath/sacCer3/bigZips/chromFa.tar.gz\"\n",
    "\n",
    "    tar -xvzf chromFa.tar.gz\n",
    "\n",
    "    cat chr*.fa > sacCer3.fa\n",
    "\n",
    "    rm chr*.fa"
   ]
  },
  {
   "cell_type": "markdown",
   "metadata": {},
   "source": [
    "### directory setup\n",
    "cd ~/qbb2020-answers/week2\n",
    "\n",
    "mkdir files"
   ]
  },
  {
   "cell_type": "markdown",
   "metadata": {},
   "source": [
    "# Step 1: Index the sacCer3 genome with bwa index"
   ]
  },
  {
   "cell_type": "markdown",
   "metadata": {},
   "source": [
    "bwa index -a bwtsw sacCer3.fa\n",
    "\n",
    "flag explination:\n",
    "    \n",
    "    -a STR    BWT construction algorithm: bwtsw, best for long genomes (is yeast 'long'?)\n",
    "\n",
    "output:\n",
    "    \n",
    "    sacCer3.fa\n",
    "    \n",
    "    sacCer3.fa.amb\n",
    "    \n",
    "    sacCer3.fa.ann\n",
    "    \n",
    "    sacCer3.fa.bwt\n",
    "    \n",
    "    sacCer3.fa.pac\n",
    "    \n",
    "    sacCer3.fa.sa\n",
    "    \n",
    "similar to the suffix index we were talking about in lecture"
   ]
  },
  {
   "cell_type": "markdown",
   "metadata": {},
   "source": [
    "# Step 2: Alignment with bwa mem"
   ]
  },
  {
   "cell_type": "markdown",
   "metadata": {},
   "source": [
    "saved as a bash script called \"steptwo.sh\":\n",
    "\n",
    "#!/bin/bash\n",
    "\n",
    "for SAMPLE in 09 11 23 24 27 31 35 39 62 63\n",
    "\n",
    "do\n",
    "\n",
    "    bwa mem -R \"@RG\\tID:${SAMPLE}\\tSM:${SAMPLE}\" -o ~/qbb2020-answers/week2/files/${SAMPLE}.sam ~/qbb2020-answers/week2/files/sacCer3.fa ~/qbb2020-answers/week2/files/A01_${SAMPLE}.fastq \n",
    "    \n",
    "done\n",
    "\n",
    "\n",
    "then in the command line:\n",
    "\n",
    "chmod u+x steptwo.sh\n",
    "\n",
    "./steptwo.sh"
   ]
  },
  {
   "cell_type": "markdown",
   "metadata": {},
   "source": [
    "# Step 3: Create a sorted bam file with samtools, for input to variant callers"
   ]
  },
  {
   "cell_type": "markdown",
   "metadata": {},
   "source": [
    "#!/bin/bash\n",
    "\n",
    "for SAMPLE in 09 11 23 24 27 31 35 39 62 63\n",
    "do\n",
    "    samtools sort -o ~/qbb2020-answers/week2/files/${SAMPLE}.bam -O bam ~/qbb2020-answers/week2/files/${SAMPLE}.sam\n",
    "    done\n",
    "\n",
    "then in the command line:\n",
    "\n",
    "chmod u+x step3.sh\n",
    "\n",
    "./step3.sh"
   ]
  },
  {
   "cell_type": "markdown",
   "metadata": {},
   "source": [
    "# Step 4: Variant calling with freebayes"
   ]
  },
  {
   "cell_type": "markdown",
   "metadata": {},
   "source": [
    "\n",
    "freebayes -f sacCer3.fa --genotype-qualities -p 1 ??.bam > yeast.vcf\n",
    "\n",
    "-f:\n",
    "     Use FILE as the reference sequence for analysis. An index file (FILE.fai) will be created if none exists. If neither --targets nor --region are specified, FreeBayeswill analyze every position in this reference.\n",
    "     \n",
    "     \n",
    "--genotype-qualities:\n",
    "    Calculate the marginal probability of genotypes and report as GQ in each sample field in the VCF output.\n",
    "    \n",
    "    \n",
    "-p:\n",
    "    ploidy--our is haploid?"
   ]
  },
  {
   "cell_type": "markdown",
   "metadata": {},
   "source": [
    "# Step 5: Filter variants based on genotype quality using vcffilter"
   ]
  },
  {
   "cell_type": "markdown",
   "metadata": {},
   "source": [
    "vcffilter -f \"QUAL > 20\" yeast.vcf > results.vcf\n",
    "Filter your VCF so that you only keep variants whose estimated probability of being polymorphic is greater than 0.99. You should consider how to do this with the -f flag. The freebayes documentation will be helpful here, as well as this vcffilter info."
   ]
  },
  {
   "cell_type": "markdown",
   "metadata": {},
   "source": [
    "# Step 6: Decompose complex haplotypes using vcfallelicprimitives"
   ]
  },
  {
   "cell_type": "markdown",
   "metadata": {},
   "source": [
    "vcfallelicprimitives -k -g results.vcf > primitives.vcf\n",
    "\n",
    "We suggest using the -k and -g flags to keep annotations for the variant sites and sample genotypes in your VCF.\n",
    "-k  Maintain site and allele-level annotations when decomposing. Note that in many cases, such as multisample VCFs, these won't be valid post-decomposition.  For biallelic loci in single-sample VCFs, they should be usable with caution.\n",
    "-g Maintain genotype-level annotations when decomposing.  Similar caution should be used for this as for --keep-info.\n",
    "You can reference vcfallelicprimitives documentation 1 and vcfallelicprimitives documentation 2."
   ]
  },
  {
   "cell_type": "markdown",
   "metadata": {},
   "source": [
    "# Step 7: Variant effect prediction with snpeff ann"
   ]
  },
  {
   "cell_type": "markdown",
   "metadata": {},
   "source": [
    "First, fetch the appropriate yeast reference database:\n",
    "snpeff download R64-1-1.86\n",
    "snpeff ann -download R64-1-1.86 -csvStats stats.txt primitives.vcf > snpeffoutput.vcf\n",
    "Then, use snpeff ann to annotate your VCF with the predicted functional effects that these genetic variants may have.\n",
    "\n",
    "We recommend not Googling the snpeff documenation. It will tell you to use java -jar snpEff.jar, which you should not. The help option for snpeff ann’s command-line tool is 100 times better."
   ]
  },
  {
   "cell_type": "markdown",
   "metadata": {},
   "source": [
    "# Step 8: Exploratory data analysis through plotting"
   ]
  },
  {
   "cell_type": "markdown",
   "metadata": {},
   "source": [
    "In Python, produce a nicely formatted and labeled multi-panel plot describing your variants.\n",
    "\n",
    "Explore each of the following characteristics of the variant genotypes called across all ten yeast samples. (Each characteristic will be a subplot in the multi-panel plot).\n",
    "\n",
    "The read depth distribution of variant genotypes (histogram)\n",
    "This information can be found in the sample specific FORMAT field for each variant/line. Check the file header to decide which ID is appropriate.\n",
    "The quality distribution of variant genotypes (histogram)\n",
    "This information can be found in the sample specific FORMAT field for each variant/line. Check the file header to decide which ID is appropriate.\n",
    "The allele frequency spectrum of your identified variants (histogram)\n",
    "This information is pre-calculated for you and can be found in the variant specific INFO field. Check the file header to decide which ID is appropriate.\n",
    "A summary of the predicted effect(s) of each variant as determed by snpEff (barplot)\n",
    "This information was added to the VCF by snpEff and can be found in the variant specific INFO field. Check the file header to decide which ID is appropriate and how to parse the information.\n",
    "We encourage you to consider every possible effect for each variant, but feel free to just grab the first one.\n",
    "You may find it helpful to reference this page of the snpeff manual, which describes the format of its output VCF."
   ]
  },
  {
   "cell_type": "markdown",
   "metadata": {},
   "source": [
    "ok so some psedocode:\n",
    "    first we have to load in the file\n",
    "    then we have to parse it, looking for:\n",
    "        read depth\n",
    "        quality distribution\n",
    "        allele frequency\n",
    "        snpEff\n",
    "        "
   ]
  },
  {
   "cell_type": "code",
   "execution_count": 8,
   "metadata": {},
   "outputs": [],
   "source": [
    "import matplotlib.pyplot as plt\n",
    "import numpy as np"
   ]
  },
  {
   "cell_type": "code",
   "execution_count": 20,
   "metadata": {
    "scrolled": true
   },
   "outputs": [
    {
     "name": "stdout",
     "output_type": "stream",
     "text": [
      "['21', '21', '38', '9', '13', '20', '32', '29', '23', '3']\n"
     ]
    }
   ],
   "source": [
    "\n",
    "#vcf = open('/Users/cmdb/qbb2020-answers/week2/files/snpeffoutput.vcf', 'r')\n",
    "vcf = open('/Users/cmdb/qbb2020-answers/week2/files/annotated1000.vcf', 'r')\n",
    "#\n",
    "DF_list = []\n",
    "GQ_list = []\n",
    "AF_list = []\n",
    "PE_list = []\n",
    "GQ_list2 = []\n",
    "count = 0\n",
    "\n",
    "for line in vcf:\n",
    "\n",
    "    if line.startswith('#'):\n",
    "        continue\n",
    "    fields = line.strip('\\r\\n').split('\\t')\n",
    "    #fields[0] = chr, fields[1] = pos, fields[2]=ID, fields[3]=ref, fields[4] = alt, feilds[5]= QUAL, fields[6]= filter, fields[7]= info1, fields[8]=formatdescrip, fields[9]= format\n",
    "    \n",
    "    fields = line.strip('\\r\\n').split('\\t')\n",
    "    \n",
    "    info_subfields = fields[7].split(';')\n",
    "    format_subfields = fields[9].split(':')\n",
    "    \n",
    "    DF_list.append(format_subfields[2])\n",
    "    GQ_list.append(format_subfields[1])\n",
    "    AF_temp = info_subfields[3]\n",
    "    AF_temp2 = AF_temp[3:]\n",
    "    AF_list.append(AF_temp2)\n",
    "    \n",
    "    #PE_list.append(info_subfields[])\n",
    "\n",
    "print(DF_list[:10])\n",
    "vcf.close()\n",
    "    #DF"
   ]
  },
  {
   "cell_type": "code",
   "execution_count": 24,
   "metadata": {},
   "outputs": [
    {
     "data": {
      "text/plain": [
       "Text(0.5, 0, 'Allele Frequncy')"
      ]
     },
     "execution_count": 24,
     "metadata": {},
     "output_type": "execute_result"
    },
    {
     "data": {
      "image/png": "[encoded data removed]",
      "text/plain": [
       "<Figure size 720x1440 with 3 Axes>"
      ]
     },
     "metadata": {
      "needs_background": "light"
     },
     "output_type": "display_data"
    }
   ],
   "source": [
    "fig, ax = plt.subplots( nrows = 3)\n",
    "fig.set_figheight(20)\n",
    "fig.set_figwidth(10)\n",
    "ax[0].hist((DF_list), bins = 30)\n",
    "#come back and figure out how to fix the scale\n",
    "ax[0].set_title('Read Depth Distribution')\n",
    "ax[0].set_ylabel('Counts')\n",
    "ax[0].set_xlabel('Read Depth')\n",
    "\n",
    "ax[1].hist((GQ_list), bins = 30)\n",
    "ax[1].set_title('Quality Distribution')\n",
    "ax[1].set_ylabel('Counts')\n",
    "ax[1].set_xlabel('Genome Quality')\n",
    "\n",
    "ax[2].hist((AF_list), bins = 30)\n",
    "ax[2].set_title('Allele Frequency Distribution')\n",
    "ax[2].set_ylabel('Counts')\n",
    "ax[2].set_xlabel('Allele Frequncy')\n",
    "# for the 4th plot I realized that the snpEff variable was not actually loaded into my new VCF. I will have to re-run that step in order to fix it. \n",
    "\n",
    "#ax[1].hist(GQ_list, bins = 30)\n",
    "#ax[0].set_xlim(0,300)\n",
    "#ax[1].hist((GQ_list), bins = 30)\n",
    "#ax[2].hist(allele_freq, bins = 15)"
   ]
  },
  {
   "cell_type": "markdown",
   "metadata": {},
   "source": [
    "ax.hist(df_k27.loc[:,'width'])\n",
    "fig, ax = plt.subplots( 1,3 )\n",
    "ax[0].bar( coi2, chr_k4.loc[ coi2 ] )\n",
    "ax[0].set_xlabel(\"Location\")\n",
    "ax[0].set_ylabel(\"Number of Hits\")\n",
    "ax[0].set_title(\"Lys 4\")\n",
    "ax[0].set_ylim(0, 950)\n",
    "ax[1].bar( coi2, chr_k9.loc[ coi2 ] )\n",
    "ax[1].set_xlabel(\"Location\")\n",
    "ax[1].set_ylabel(\"Number of Hits\")\n",
    "ax[1].set_title(\"Lys 9\")\n",
    "ax[1].set_ylim(0, 950)\n",
    "ax[2].bar( coi2, chr_k27.loc[ coi2 ] )\n",
    "ax[2].set_xlabel(\"Location\")\n",
    "ax[2].set_ylabel(\"Number of Hits\")\n",
    "ax[2].set_title(\"Lys 27\")\n",
    "ax[2].set_ylim(0, 950)\n",
    "fig.tight_layout()\n",
    "#plt.xlabel('Location')\n",
    "#plt.ylabel('Number of Hits')\n",
    "#plt.suptitle('K4')\n",
    "\n",
    "#ax[1].plot( x2, y2 )\n",
    "#\n",
    "#ax[0].set_ylim(0.0,200.0)\n",
    "#pltpy.show()"
   ]
  },
  {
   "cell_type": "markdown",
   "metadata": {},
   "source": [
    "# submit"
   ]
  },
  {
   "cell_type": "markdown",
   "metadata": {},
   "source": [
    "Push all scripts, a record of your command line commands (if applicable), your multi-panel plot, and ONLY the first 1000 lines of your filtered, decomposed, and annotated VCF to your qbb2020-answers repo. Do not push any other raw data to Github, and do not push the full VCF!"
   ]
  },
  {
   "cell_type": "markdown",
   "metadata": {},
   "source": [
    "vcf = open('/Users/cmdb/qbb2020-answers/week2/files/snpeffoutput.vcf', 'r')\n",
    "vcf.close()"
   ]
  },
  {
   "cell_type": "markdown",
   "metadata": {},
   "source": []
  }
 ],
 "metadata": {
  "kernelspec": {
   "display_name": "Python 3",
   "language": "python",
   "name": "python3"
  },
  "language_info": {
   "codemirror_mode": {
    "name": "ipython",
    "version": 3
   },
   "file_extension": ".py",
   "mimetype": "text/x-python",
   "name": "python",
   "nbconvert_exporter": "python",
   "pygments_lexer": "ipython3",
   "version": "3.6.10"
  }
 },
 "nbformat": 4,
 "nbformat_minor": 4
}
